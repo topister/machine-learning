{
 "cells": [
  {
   "cell_type": "code",
   "execution_count": 1,
   "metadata": {},
   "outputs": [
    {
     "name": "stdout",
     "output_type": "stream",
     "text": [
      "Requirement already satisfied: keras in /home/topister/Desktop/dpro/machine-learning/dpro/lib/python3.10/site-packages (3.4.1)\n",
      "Requirement already satisfied: h5py in /home/topister/Desktop/dpro/machine-learning/dpro/lib/python3.10/site-packages (from keras) (3.11.0)\n",
      "Requirement already satisfied: ml-dtypes in /home/topister/Desktop/dpro/machine-learning/dpro/lib/python3.10/site-packages (from keras) (0.4.0)\n",
      "Requirement already satisfied: absl-py in /home/topister/Desktop/dpro/machine-learning/dpro/lib/python3.10/site-packages (from keras) (2.1.0)\n",
      "Requirement already satisfied: rich in /home/topister/Desktop/dpro/machine-learning/dpro/lib/python3.10/site-packages (from keras) (13.7.1)\n",
      "Requirement already satisfied: namex in /home/topister/Desktop/dpro/machine-learning/dpro/lib/python3.10/site-packages (from keras) (0.0.8)\n",
      "Requirement already satisfied: numpy in /home/topister/Desktop/dpro/machine-learning/dpro/lib/python3.10/site-packages (from keras) (1.26.4)\n",
      "Requirement already satisfied: packaging in /home/topister/Desktop/dpro/machine-learning/dpro/lib/python3.10/site-packages (from keras) (23.2)\n",
      "Requirement already satisfied: optree in /home/topister/Desktop/dpro/machine-learning/dpro/lib/python3.10/site-packages (from keras) (0.11.0)\n",
      "Requirement already satisfied: typing-extensions>=4.0.0 in /home/topister/Desktop/dpro/machine-learning/dpro/lib/python3.10/site-packages (from optree->keras) (4.12.0)\n",
      "Requirement already satisfied: pygments<3.0.0,>=2.13.0 in /home/topister/Desktop/dpro/machine-learning/dpro/lib/python3.10/site-packages (from rich->keras) (2.17.2)\n",
      "Requirement already satisfied: markdown-it-py>=2.2.0 in /home/topister/Desktop/dpro/machine-learning/dpro/lib/python3.10/site-packages (from rich->keras) (3.0.0)\n",
      "Requirement already satisfied: mdurl~=0.1 in /home/topister/Desktop/dpro/machine-learning/dpro/lib/python3.10/site-packages (from markdown-it-py>=2.2.0->rich->keras) (0.1.2)\n",
      "Note: you may need to restart the kernel to use updated packages.\n"
     ]
    }
   ],
   "source": [
    "%pip install keras\n"
   ]
  },
  {
   "cell_type": "code",
   "execution_count": 4,
   "metadata": {},
   "outputs": [
    {
     "name": "stdout",
     "output_type": "stream",
     "text": [
      "Collecting tensorflow\n",
      "  Downloading tensorflow-2.16.1-cp310-cp310-manylinux_2_17_x86_64.manylinux2014_x86_64.whl (589.8 MB)\n",
      "\u001b[2K     \u001b[90m━━━━━━━━━━━━━━━━━━━━━━━━━━━━━━━━━━━━━\u001b[0m \u001b[32m589.8/589.8 MB\u001b[0m \u001b[31m348.8 kB/s\u001b[0m eta \u001b[36m0:00:00\u001b[0m00:01\u001b[0m00:09\u001b[0m\n",
      "\u001b[?25hCollecting wrapt>=1.11.0\n",
      "  Using cached wrapt-1.16.0-cp310-cp310-manylinux_2_5_x86_64.manylinux1_x86_64.manylinux_2_17_x86_64.manylinux2014_x86_64.whl (80 kB)\n",
      "Collecting grpcio<2.0,>=1.24.3\n",
      "  Downloading grpcio-1.64.1-cp310-cp310-manylinux_2_17_x86_64.manylinux2014_x86_64.whl (5.6 MB)\n",
      "\u001b[2K     \u001b[90m━━━━━━━━━━━━━━━━━━━━━━━━━━━━━━━━━━━━━━━━\u001b[0m \u001b[32m5.6/5.6 MB\u001b[0m \u001b[31m807.7 kB/s\u001b[0m eta \u001b[36m0:00:00\u001b[0m00:01\u001b[0m00:01\u001b[0m\n",
      "\u001b[?25hRequirement already satisfied: absl-py>=1.0.0 in /home/topister/Desktop/dpro/machine-learning/dpro/lib/python3.10/site-packages (from tensorflow) (2.1.0)\n",
      "Requirement already satisfied: packaging in /home/topister/Desktop/dpro/machine-learning/dpro/lib/python3.10/site-packages (from tensorflow) (23.2)\n",
      "Collecting ml-dtypes~=0.3.1\n",
      "  Downloading ml_dtypes-0.3.2-cp310-cp310-manylinux_2_17_x86_64.manylinux2014_x86_64.whl (2.2 MB)\n",
      "\u001b[2K     \u001b[90m━━━━━━━━━━━━━━━━━━━━━━━━━━━━━━━━━━━━━━━━\u001b[0m \u001b[32m2.2/2.2 MB\u001b[0m \u001b[31m657.0 kB/s\u001b[0m eta \u001b[36m0:00:00\u001b[0m00:01\u001b[0m00:01\u001b[0m\n",
      "\u001b[?25hCollecting flatbuffers>=23.5.26\n",
      "  Downloading flatbuffers-24.3.25-py2.py3-none-any.whl (26 kB)\n",
      "Collecting libclang>=13.0.0\n",
      "  Downloading libclang-18.1.1-py2.py3-none-manylinux2010_x86_64.whl (24.5 MB)\n",
      "\u001b[2K     \u001b[90m━━━━━━━━━━━━━━━━━━━━━━━━━━━━━━━━━━━━━━━\u001b[0m \u001b[32m24.5/24.5 MB\u001b[0m \u001b[31m551.8 kB/s\u001b[0m eta \u001b[36m0:00:00\u001b[0m00:01\u001b[0m00:02\u001b[0m\n",
      "\u001b[?25hCollecting termcolor>=1.1.0\n",
      "  Using cached termcolor-2.4.0-py3-none-any.whl (7.7 kB)\n",
      "Requirement already satisfied: setuptools in /home/topister/Desktop/dpro/machine-learning/dpro/lib/python3.10/site-packages (from tensorflow) (59.6.0)\n",
      "Requirement already satisfied: typing-extensions>=3.6.6 in /home/topister/Desktop/dpro/machine-learning/dpro/lib/python3.10/site-packages (from tensorflow) (4.12.0)\n",
      "Collecting tensorboard<2.17,>=2.16\n",
      "  Downloading tensorboard-2.16.2-py3-none-any.whl (5.5 MB)\n",
      "\u001b[2K     \u001b[90m━━━━━━━━━━━━━━━━━━━━━━━━━━━━━━━━━━━━━━━━\u001b[0m \u001b[32m5.5/5.5 MB\u001b[0m \u001b[31m512.4 kB/s\u001b[0m eta \u001b[36m0:00:00\u001b[0m00:01\u001b[0m00:01\u001b[0m\n",
      "\u001b[?25hRequirement already satisfied: numpy<2.0.0,>=1.23.5 in /home/topister/Desktop/dpro/machine-learning/dpro/lib/python3.10/site-packages (from tensorflow) (1.26.4)\n",
      "Collecting google-pasta>=0.1.1\n",
      "  Using cached google_pasta-0.2.0-py3-none-any.whl (57 kB)\n",
      "Requirement already satisfied: six>=1.12.0 in /home/topister/Desktop/dpro/machine-learning/dpro/lib/python3.10/site-packages (from tensorflow) (1.16.0)\n",
      "Requirement already satisfied: h5py>=3.10.0 in /home/topister/Desktop/dpro/machine-learning/dpro/lib/python3.10/site-packages (from tensorflow) (3.11.0)\n",
      "Collecting tensorflow-io-gcs-filesystem>=0.23.1\n",
      "  Downloading tensorflow_io_gcs_filesystem-0.37.0-cp310-cp310-manylinux_2_17_x86_64.manylinux2014_x86_64.whl (5.1 MB)\n",
      "\u001b[2K     \u001b[90m━━━━━━━━━━━━━━━━━━━━━━━━━━━━━━━━━━━━━━━━\u001b[0m \u001b[32m5.1/5.1 MB\u001b[0m \u001b[31m514.4 kB/s\u001b[0m eta \u001b[36m0:00:00\u001b[0m00:01\u001b[0m00:01\u001b[0m\n",
      "\u001b[?25hCollecting protobuf!=4.21.0,!=4.21.1,!=4.21.2,!=4.21.3,!=4.21.4,!=4.21.5,<5.0.0dev,>=3.20.3\n",
      "  Using cached protobuf-4.25.3-cp37-abi3-manylinux2014_x86_64.whl (294 kB)\n",
      "Collecting gast!=0.5.0,!=0.5.1,!=0.5.2,>=0.2.1\n",
      "  Downloading gast-0.5.5.tar.gz (26 kB)\n",
      "  Preparing metadata (setup.py) ... \u001b[?25ldone\n",
      "\u001b[?25hCollecting opt-einsum>=2.3.2\n",
      "  Using cached opt_einsum-3.3.0-py3-none-any.whl (65 kB)\n",
      "Collecting astunparse>=1.6.0\n",
      "  Using cached astunparse-1.6.3-py2.py3-none-any.whl (12 kB)\n",
      "Requirement already satisfied: keras>=3.0.0 in /home/topister/Desktop/dpro/machine-learning/dpro/lib/python3.10/site-packages (from tensorflow) (3.4.1)\n",
      "Requirement already satisfied: requests<3,>=2.21.0 in /home/topister/Desktop/dpro/machine-learning/dpro/lib/python3.10/site-packages (from tensorflow) (2.32.2)\n",
      "Collecting wheel<1.0,>=0.23.0\n",
      "  Downloading wheel-0.43.0-py3-none-any.whl (65 kB)\n",
      "\u001b[2K     \u001b[90m━━━━━━━━━━━━━━━━━━━━━━━━━━━━━━━━━━━━━━━━\u001b[0m \u001b[32m65.8/65.8 KB\u001b[0m \u001b[31m1.7 MB/s\u001b[0m eta \u001b[36m0:00:00\u001b[0m\n",
      "\u001b[?25hRequirement already satisfied: namex in /home/topister/Desktop/dpro/machine-learning/dpro/lib/python3.10/site-packages (from keras>=3.0.0->tensorflow) (0.0.8)\n",
      "Requirement already satisfied: optree in /home/topister/Desktop/dpro/machine-learning/dpro/lib/python3.10/site-packages (from keras>=3.0.0->tensorflow) (0.11.0)\n",
      "Requirement already satisfied: rich in /home/topister/Desktop/dpro/machine-learning/dpro/lib/python3.10/site-packages (from keras>=3.0.0->tensorflow) (13.7.1)\n",
      "Requirement already satisfied: idna<4,>=2.5 in /home/topister/Desktop/dpro/machine-learning/dpro/lib/python3.10/site-packages (from requests<3,>=2.21.0->tensorflow) (3.7)\n",
      "Requirement already satisfied: charset-normalizer<4,>=2 in /home/topister/Desktop/dpro/machine-learning/dpro/lib/python3.10/site-packages (from requests<3,>=2.21.0->tensorflow) (3.3.2)\n",
      "Requirement already satisfied: certifi>=2017.4.17 in /home/topister/Desktop/dpro/machine-learning/dpro/lib/python3.10/site-packages (from requests<3,>=2.21.0->tensorflow) (2024.2.2)\n",
      "Requirement already satisfied: urllib3<3,>=1.21.1 in /home/topister/Desktop/dpro/machine-learning/dpro/lib/python3.10/site-packages (from requests<3,>=2.21.0->tensorflow) (2.2.1)\n",
      "Collecting werkzeug>=1.0.1\n",
      "  Downloading werkzeug-3.0.3-py3-none-any.whl (227 kB)\n",
      "\u001b[2K     \u001b[90m━━━━━━━━━━━━━━━━━━━━━━━━━━━━━━━━━━━━━\u001b[0m \u001b[32m227.3/227.3 KB\u001b[0m \u001b[31m634.6 kB/s\u001b[0m eta \u001b[36m0:00:00\u001b[0m00:01\u001b[0m00:01\u001b[0m\n",
      "\u001b[?25hCollecting tensorboard-data-server<0.8.0,>=0.7.0\n",
      "  Using cached tensorboard_data_server-0.7.2-py3-none-manylinux_2_31_x86_64.whl (6.6 MB)\n",
      "Collecting markdown>=2.6.8\n",
      "  Downloading Markdown-3.6-py3-none-any.whl (105 kB)\n",
      "\u001b[2K     \u001b[90m━━━━━━━━━━━━━━━━━━━━━━━━━━━━━━━━━━━━━━━\u001b[0m \u001b[32m105.4/105.4 KB\u001b[0m \u001b[31m1.7 MB/s\u001b[0m eta \u001b[36m0:00:00\u001b[0ma \u001b[36m0:00:01\u001b[0m\n",
      "\u001b[?25hRequirement already satisfied: MarkupSafe>=2.1.1 in /home/topister/Desktop/dpro/machine-learning/dpro/lib/python3.10/site-packages (from werkzeug>=1.0.1->tensorboard<2.17,>=2.16->tensorflow) (2.1.5)\n",
      "Requirement already satisfied: pygments<3.0.0,>=2.13.0 in /home/topister/Desktop/dpro/machine-learning/dpro/lib/python3.10/site-packages (from rich->keras>=3.0.0->tensorflow) (2.17.2)\n",
      "Requirement already satisfied: markdown-it-py>=2.2.0 in /home/topister/Desktop/dpro/machine-learning/dpro/lib/python3.10/site-packages (from rich->keras>=3.0.0->tensorflow) (3.0.0)\n",
      "Requirement already satisfied: mdurl~=0.1 in /home/topister/Desktop/dpro/machine-learning/dpro/lib/python3.10/site-packages (from markdown-it-py>=2.2.0->rich->keras>=3.0.0->tensorflow) (0.1.2)\n",
      "Using legacy 'setup.py install' for gast, since package 'wheel' is not installed.\n",
      "Installing collected packages: libclang, flatbuffers, wrapt, wheel, werkzeug, termcolor, tensorflow-io-gcs-filesystem, tensorboard-data-server, protobuf, opt-einsum, ml-dtypes, markdown, grpcio, google-pasta, gast, tensorboard, astunparse, tensorflow\n",
      "  Attempting uninstall: ml-dtypes\n",
      "    Found existing installation: ml-dtypes 0.4.0\n",
      "    Uninstalling ml-dtypes-0.4.0:\n",
      "      Successfully uninstalled ml-dtypes-0.4.0\n",
      "  Running setup.py install for gast ... \u001b[?25ldone\n",
      "\u001b[?25hSuccessfully installed astunparse-1.6.3 flatbuffers-24.3.25 gast-0.5.5 google-pasta-0.2.0 grpcio-1.64.1 libclang-18.1.1 markdown-3.6 ml-dtypes-0.3.2 opt-einsum-3.3.0 protobuf-4.25.3 tensorboard-2.16.2 tensorboard-data-server-0.7.2 tensorflow-2.16.1 tensorflow-io-gcs-filesystem-0.37.0 termcolor-2.4.0 werkzeug-3.0.3 wheel-0.43.0 wrapt-1.16.0\n",
      "Note: you may need to restart the kernel to use updated packages.\n"
     ]
    }
   ],
   "source": [
    "%pip install tensorflow"
   ]
  },
  {
   "cell_type": "code",
   "execution_count": 5,
   "metadata": {},
   "outputs": [
    {
     "name": "stderr",
     "output_type": "stream",
     "text": [
      "2024-06-27 16:39:26.587491: I tensorflow/core/platform/cpu_feature_guard.cc:210] This TensorFlow binary is optimized to use available CPU instructions in performance-critical operations.\n",
      "To enable the following instructions: AVX2 FMA, in other operations, rebuild TensorFlow with the appropriate compiler flags.\n",
      "2024-06-27 16:39:27.811445: W tensorflow/compiler/tf2tensorrt/utils/py_utils.cc:38] TF-TRT Warning: Could not find TensorRT\n"
     ]
    },
    {
     "name": "stdout",
     "output_type": "stream",
     "text": [
      "Downloading data from https://storage.googleapis.com/tensorflow/tf-keras-datasets/mnist.npz\n",
      "\u001b[1m11490434/11490434\u001b[0m \u001b[32m━━━━━━━━━━━━━━━━━━━━\u001b[0m\u001b[37m\u001b[0m \u001b[1m16s\u001b[0m 1us/step\n"
     ]
    }
   ],
   "source": [
    "from keras.datasets import mnist\n",
    "\n",
    "(X_train, y_train), (X_test, y_test) = mnist.load_data()\n"
   ]
  },
  {
   "cell_type": "code",
   "execution_count": 28,
   "metadata": {},
   "outputs": [],
   "source": [
    "import numpy as np\n",
    "from keras.datasets import mnist\n",
    "from sklearn.preprocessing import OneHotEncoder\n",
    "import matplotlib.pyplot as plt"
   ]
  },
  {
   "cell_type": "code",
   "execution_count": 29,
   "metadata": {},
   "outputs": [],
   "source": [
    "class GetMiniBatch:\n",
    "    def __init__(self, X, y, batch_size=20):\n",
    "        self.X = X\n",
    "        self.y = y\n",
    "        self.batch_size = batch_size\n",
    "        self._shuffle()\n",
    "        self.current_idx = 0\n",
    "\n",
    "    def _shuffle(self):\n",
    "        p = np.random.permutation(len(self.X))\n",
    "        self.X, self.y = self.X[p], self.y[p]\n",
    "\n",
    "    def __len__(self):\n",
    "        return len(self.X) // self.batch_size\n",
    "\n",
    "    def __iter__(self):\n",
    "        return self\n",
    "    \n",
    "    def __next__(self):\n",
    "        if self.current_idx >= len(self):\n",
    "            self._shuffle()\n",
    "            self.current_idx = 0\n",
    "            raise StopIteration\n",
    "        idx = self.current_idx * self.batch_size\n",
    "        self.current_idx += 1\n",
    "        return self.X[idx:idx + self.batch_size], self.y[idx:idx + self.batch_size]\n"
   ]
  },
  {
   "cell_type": "code",
   "execution_count": 31,
   "metadata": {},
   "outputs": [],
   "source": [
    "class ScratchSimpleNeuralNetworkClassifier():\n",
    "    def __init__(self, n_features=784, n_nodes1=400, n_nodes2=200, n_output=10, learning_rate=0.01, sigma=0.01, verbose=True):\n",
    "        self.verbose = verbose\n",
    "        self.lr = learning_rate\n",
    "        self.sigma = sigma\n",
    "        self.W1 = sigma * np.random.randn(n_features, n_nodes1)\n",
    "        self.B1 = np.zeros(n_nodes1)\n",
    "        self.W2 = sigma * np.random.randn(n_nodes1, n_nodes2)\n",
    "        self.B2 = np.zeros(n_nodes2)\n",
    "        self.W3 = sigma * np.random.randn(n_nodes2, n_output)\n",
    "        self.B3 = np.zeros(n_output)\n",
    "\n",
    "    def _sigmoid(self, X):\n",
    "        return 1 / (1 + np.exp(-X))\n",
    "\n",
    "    def _softmax(self, X):\n",
    "        exp_X = np.exp(X - np.max(X, axis=1, keepdims=True))\n",
    "        return exp_X / np.sum(exp_X, axis=1, keepdims=True)\n",
    "\n",
    "    def _cross_entropy_error(self, y, t):\n",
    "        delta = 1e-7\n",
    "        return -np.sum(t * np.log(y + delta)) / y.shape[0]\n",
    "    \n",
    "    def fit(self, X, y, X_val=None, y_val=None, epochs=50, batch_size=20):\n",
    "        for epoch in range(epochs):\n",
    "            get_mini_batch = GetMiniBatch(X, y, batch_size=batch_size)\n",
    "            for mini_X_train, mini_y_train in get_mini_batch:\n",
    "                # Forward Propagation\n",
    "                A1 = np.dot(mini_X_train, self.W1) + self.B1\n",
    "                Z1 = self._sigmoid(A1)\n",
    "                A2 = np.dot(Z1, self.W2) + self.B2\n",
    "                Z2 = self._sigmoid(A2)\n",
    "                A3 = np.dot(Z2, self.W3) + self.B3\n",
    "                Z3 = self._softmax(A3)\n",
    "\n",
    "                # Back Propagation\n",
    "                dA3 = (Z3 - mini_y_train) / batch_size\n",
    "                self.W3 -= self.lr * np.dot(Z2.T, dA3)\n",
    "                self.B3 -= self.lr * np.sum(dA3, axis=0)\n",
    "\n",
    "                dZ2 = np.dot(dA3, self.W3.T) * Z2 * (1 - Z2)\n",
    "                self.W2 -= self.lr * np.dot(Z1.T, dZ2)\n",
    "                self.B2 -= self.lr * np.sum(dZ2, axis=0)\n",
    "\n",
    "                dZ1 = np.dot(dZ2, self.W2.T) * Z1 * (1 - Z1)\n",
    "                self.W1 -= self.lr * np.dot(mini_X_train.T, dZ1)\n",
    "                self.B1 -= self.lr * np.sum(dZ1, axis=0)\n",
    "\n",
    "            if self.verbose:\n",
    "                A1 = np.dot(X_val, self.W1) + self.B1\n",
    "                Z1 = self._sigmoid(A1)\n",
    "                A2 = np.dot(Z1, self.W2) + self.B2\n",
    "                Z2 = self._sigmoid(A2)\n",
    "                A3 = np.dot(Z2, self.W3) + self.B3\n",
    "                Z3 = self._softmax(A3)\n",
    "                loss = self._cross_entropy_error(Z3, y_val)\n",
    "                print(f'Epoch {epoch+1}/{epochs}, Loss: {loss}')\n",
    "\n",
    "\n",
    "    def predict(self, X):\n",
    "        A1 = np.dot(X, self.W1) + self.B1\n",
    "        Z1 = self._sigmoid(A1)\n",
    "        A2 = np.dot(Z1, self.W2) + self.B2\n",
    "        Z2 = self._sigmoid(A2)\n",
    "        A3 = np.dot(Z2, self.W3) + self.B3\n",
    "        Z3 = self._softmax(A3)\n",
    "        return np.argmax(Z3, axis=1)"
   ]
  },
  {
   "cell_type": "code",
   "execution_count": 32,
   "metadata": {},
   "outputs": [],
   "source": [
    "# Load the MNIST dataset\n",
    "(X_train, y_train), (X_test, y_test) = mnist.load_data()\n",
    "\n",
    "# Preprocess the data\n",
    "X_train = X_train.reshape((X_train.shape[0], -1)) / 255.0\n",
    "X_test = X_test.reshape((X_test.shape[0], -1)) / 255.0\n",
    "\n",
    "# One-hot encode the labels\n",
    "enc = OneHotEncoder(sparse_output=False)\n",
    "y_train_one_hot = enc.fit_transform(y_train[:, np.newaxis])\n",
    "y_test_one_hot = enc.transform(y_test[:, np.newaxis])\n"
   ]
  },
  {
   "cell_type": "code",
   "execution_count": 33,
   "metadata": {},
   "outputs": [
    {
     "name": "stdout",
     "output_type": "stream",
     "text": [
      "Epoch 1/10, Loss: 2.304662455570403\n",
      "Epoch 2/10, Loss: 2.3050963422029698\n",
      "Epoch 3/10, Loss: 2.3031641949545265\n",
      "Epoch 4/10, Loss: 2.3050799579728\n",
      "Epoch 5/10, Loss: 2.3047547670162962\n",
      "Epoch 6/10, Loss: 2.302021522781697\n",
      "Epoch 7/10, Loss: 2.2959677239305245\n",
      "Epoch 8/10, Loss: 2.290299685929612\n",
      "Epoch 9/10, Loss: 2.2535367350531685\n",
      "Epoch 10/10, Loss: 1.9808930008262\n",
      "Test Accuracy: 0.2911\n"
     ]
    }
   ],
   "source": [
    "# Create the neural network classifier\n",
    "clf = ScratchSimpleNeuralNetworkClassifier(verbose=True)\n",
    "\n",
    "# Train the model\n",
    "clf.fit(X_train, y_train_one_hot, X_val=X_test, y_val=y_test_one_hot, epochs=10, batch_size=32)\n",
    "\n",
    "# Predict on the test set\n",
    "y_pred = clf.predict(X_test)\n",
    "\n",
    "# Calculate accuracy\n",
    "accuracy = np.mean(y_pred == y_test)\n",
    "print(f'Test Accuracy: {accuracy}')"
   ]
  },
  {
   "cell_type": "code",
   "execution_count": 34,
   "metadata": {},
   "outputs": [],
   "source": [
    "# Display a couple of images with their predicted labels\n",
    "def display_images(X, y_true, y_pred, num_images=2):\n",
    "    plt.figure(figsize=(10, 5))\n",
    "    for i in range(num_images):\n",
    "        plt.subplot(1, num_images, i+1)\n",
    "        plt.imshow(X[i].reshape(28, 28), cmap='gray')\n",
    "        plt.title(f'True: {y_true[i]}, Pred: {y_pred[i]}')\n",
    "        plt.axis('off')\n",
    "    plt.show()\n"
   ]
  },
  {
   "cell_type": "code",
   "execution_count": 35,
   "metadata": {},
   "outputs": [
    {
     "data": {
      "image/png": "[encoded data removed]",
      "text/plain": [
       "<Figure size 1000x500 with 2 Axes>"
      ]
     },
     "metadata": {},
     "output_type": "display_data"
    }
   ],
   "source": [
    "display_images(X_test, y_test, y_pred, num_images=2)"
   ]
  },
  {
   "cell_type": "code",
   "execution_count": null,
   "metadata": {},
   "outputs": [],
   "source": []
  }
 ],
 "metadata": {
  "kernelspec": {
   "display_name": "dpro",
   "language": "python",
   "name": "python3"
  },
  "language_info": {
   "codemirror_mode": {
    "name": "ipython",
    "version": 3
   },
   "file_extension": ".py",
   "mimetype": "text/x-python",
   "name": "python",
   "nbconvert_exporter": "python",
   "pygments_lexer": "ipython3",
   "version": "3.10.12"
  }
 },
 "nbformat": 4,
 "nbformat_minor": 2
}
