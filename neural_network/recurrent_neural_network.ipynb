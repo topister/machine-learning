{
 "cells": [
  {
   "cell_type": "markdown",
   "metadata": {},
   "source": [
    "### Problem 1] Simple Forward propagation implementation of RNN"
   ]
  },
  {
   "cell_type": "code",
   "execution_count": 1,
   "metadata": {},
   "outputs": [
    {
     "name": "stdout",
     "output_type": "stream",
     "text": [
      "[[0.79494228 0.81839002 0.83939649 0.85584174]]\n"
     ]
    }
   ],
   "source": [
    "import numpy as np\n",
    "\n",
    "class ScratchSimpleRNNClassifier:\n",
    "    def __init__(self, n_features, n_nodes):\n",
    "        self.n_features = n_features\n",
    "        self.n_nodes = n_nodes\n",
    "        self.Wx = None\n",
    "        self.Wh = None\n",
    "        self.b = None\n",
    "\n",
    "    def initialize_weights(self):\n",
    "        self.Wx = np.random.randn(self.n_features, self.n_nodes)\n",
    "        self.Wh = np.random.randn(self.n_nodes, self.n_nodes)\n",
    "        self.b = np.random.randn(self.n_nodes)\n",
    "\n",
    "    def forward(self, x):\n",
    "        batch_size, n_sequences, n_features = x.shape\n",
    "        h = np.zeros((batch_size, self.n_nodes))\n",
    "        for t in range(n_sequences):\n",
    "            a_t = np.dot(x[:, t, :], self.Wx) + np.dot(h, self.Wh) + self.b\n",
    "            h = np.tanh(a_t)\n",
    "        return h\n",
    "\n",
    "# using the implementation\n",
    "x = np.array([[[1, 2], [2, 3], [3, 4]]])/100 # (batch_size, n_sequences, n_features)\n",
    "w_x = np.array([[1, 3, 5, 7], [3, 5, 7, 8]])/100 # (n_features, n_nodes)\n",
    "w_h = np.array([[1, 3, 5, 7], [2, 4, 6, 8], [3, 5, 7, 8], [4, 6, 8, 10]])/100 # (n_nodes, n_nodes)\n",
    "b = np.array([1, 1, 1, 1]) # (n_nodes,)\n",
    "batch_size = x.shape[0] # 1\n",
    "n_sequences = x.shape[1] # 3\n",
    "n_features = x.shape[2] # 2\n",
    "n_nodes = w_x.shape[1] # 4\n",
    "\n",
    "rnn = ScratchSimpleRNNClassifier(n_features=n_features, n_nodes=n_nodes)\n",
    "rnn.Wx = w_x\n",
    "rnn.Wh = w_h\n",
    "rnn.b = b\n",
    "\n",
    "h = rnn.forward(x)\n",
    "print(h) \n"
   ]
  },
  {
   "cell_type": "markdown",
   "metadata": {},
   "source": [
    "### [Problem 2] Experiment of forward propagation with small sequence"
   ]
  },
  {
   "cell_type": "code",
   "execution_count": 2,
   "metadata": {},
   "outputs": [],
   "source": [
    "h = np.array([[0.79494228, 0.81839002, 0.83939649, 0.85584174]]) # (batch_size, n_nodes)"
   ]
  },
  {
   "cell_type": "code",
   "execution_count": 3,
   "metadata": {},
   "outputs": [
    {
     "name": "stdout",
     "output_type": "stream",
     "text": [
      "[[0.79494228 0.81839002 0.83939649 0.85584174]]\n"
     ]
    }
   ],
   "source": [
    "print(h)"
   ]
  },
  {
   "cell_type": "markdown",
   "metadata": {},
   "source": [
    "### [Problem 3] (Advance assignment) Implementation of backpropagation"
   ]
  },
  {
   "cell_type": "code",
   "execution_count": 9,
   "metadata": {},
   "outputs": [],
   "source": [
    "class ScratchSimpleRNNClassifier:\n",
    "    def __init__(self, n_features, n_nodes, learning_rate=0.01):\n",
    "        self.n_features = n_features\n",
    "        self.n_nodes = n_nodes\n",
    "        self.learning_rate = learning_rate\n",
    "        self.Wx = None\n",
    "        self.Wh = None\n",
    "        self.b = None\n",
    "\n",
    "    def initialize_weights(self):\n",
    "        self.Wx = np.random.randn(self.n_features, self.n_nodes)\n",
    "        self.Wh = np.random.randn(self.n_nodes, self.n_nodes)\n",
    "        self.b = np.random.randn(self.n_nodes)\n",
    "\n",
    "    def forward(self, x):\n",
    "        batch_size, n_sequences, n_features = x.shape\n",
    "        h = np.zeros((batch_size, self.n_nodes))\n",
    "        self.hs = [h]\n",
    "        for t in range(n_sequences):\n",
    "            a_t = np.dot(x[:, t, :], self.Wx) + np.dot(h, self.Wh) + self.b\n",
    "            h = np.tanh(a_t)\n",
    "            self.hs.append(h)\n",
    "        return h\n",
    "\n",
    "    def backward(self, x, y, h):\n",
    "        batch_size, n_sequences, n_features = x.shape\n",
    "        delta_wx = np.zeros_like(self.Wx, dtype=np.float64)\n",
    "        delta_wh = np.zeros_like(self.Wh, dtype=np.float64)\n",
    "        delta_b = np.zeros_like(self.b, dtype=np.float64)\n",
    "        dh_next = np.zeros_like(h, dtype=np.float64)\n",
    "\n",
    "        for t in reversed(range(n_sequences)):\n",
    "            dh = (h - y) * (1 - h ** 2) + dh_next\n",
    "            delta_b += dh.sum(axis=0)\n",
    "            delta_wx += np.dot(x[:, t, :].T, dh)\n",
    "            delta_wh += np.dot(self.hs[t].T, dh)\n",
    "            dh_next = np.dot(dh, self.Wh.T)\n",
    "\n",
    "        self.Wx -= self.learning_rate * delta_wx / batch_size\n",
    "        self.Wh -= self.learning_rate * delta_wh / batch_size\n",
    "        self.b -= self.learning_rate * delta_b / batch_size"
   ]
  },
  {
   "cell_type": "code",
   "execution_count": 11,
   "metadata": {},
   "outputs": [],
   "source": [
    "# Initialize and test\n",
    "x = np.array([[[1, 2], [2, 3], [3, 4]]])/100 # (batch_size, n_sequences, n_features)\n",
    "w_x = np.array([[1, 3, 5, 7], [3, 5, 7, 8]])/100 # (n_features, n_nodes)\n",
    "w_h = np.array([[1, 3, 5, 7], [2, 4, 6, 8], [3, 5, 7, 8], [4, 6, 8, 10]])/100 # (n_nodes, n_nodes)\n",
    "b = np.array([1, 1, 1, 1], dtype=np.float64) # (n_nodes,)\n",
    "batch_size = x.shape[0] # 1\n",
    "n_sequences = x.shape[1] # 3\n",
    "n_features = x.shape[2] # 2\n",
    "n_nodes = w_x.shape[1] # 4\n",
    "\n",
    "rnn = ScratchSimpleRNNClassifier(n_features=n_features, n_nodes=n_nodes)\n",
    "rnn.Wx = w_x\n",
    "rnn.Wh = w_h\n",
    "rnn.b = b"
   ]
  },
  {
   "cell_type": "code",
   "execution_count": 12,
   "metadata": {},
   "outputs": [],
   "source": [
    "# Forward pass\n",
    "h = rnn.forward(x)\n"
   ]
  },
  {
   "cell_type": "code",
   "execution_count": 13,
   "metadata": {},
   "outputs": [],
   "source": [
    "# Dummy target\n",
    "y = np.array([[1, 0, 0, 0]])"
   ]
  },
  {
   "cell_type": "code",
   "execution_count": 14,
   "metadata": {},
   "outputs": [
    {
     "name": "stdout",
     "output_type": "stream",
     "text": [
      "[[0.79494228 0.81839002 0.83939649 0.85584174]]\n"
     ]
    }
   ],
   "source": [
    "# Backward pass\n",
    "rnn.backward(x, y, h)\n",
    "print(h)"
   ]
  },
  {
   "cell_type": "code",
   "execution_count": null,
   "metadata": {},
   "outputs": [],
   "source": []
  }
 ],
 "metadata": {
  "kernelspec": {
   "display_name": "dpro",
   "language": "python",
   "name": "python3"
  },
  "language_info": {
   "codemirror_mode": {
    "name": "ipython",
    "version": 3
   },
   "file_extension": ".py",
   "mimetype": "text/x-python",
   "name": "python",
   "nbconvert_exporter": "python",
   "pygments_lexer": "ipython3",
   "version": "3.10.12"
  }
 },
 "nbformat": 4,
 "nbformat_minor": 2
}
