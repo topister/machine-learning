{
 "cells": [
  {
   "cell_type": "markdown",
   "metadata": {},
   "source": [
    "## Problem 1: Calculate wheat distribution on a 2x2 chessboard.\n"
   ]
  },
  {
   "cell_type": "code",
   "execution_count": 1,
   "metadata": {},
   "outputs": [
    {
     "name": "stdout",
     "output_type": "stream",
     "text": [
      "Wheat distribution on a 2x2 chessboard:\n",
      "[[1 2]\n",
      " [4 8]]\n"
     ]
    }
   ],
   "source": [
    "import numpy as np\n",
    "\n",
    "# Initialize a 2x2 chessboard\n",
    "n_squares = 2\n",
    "board = np.arange(n_squares**2).reshape(n_squares, n_squares)\n",
    "\n",
    "# Calculate wheat distribution\n",
    "wheat_distribution = 2 ** board\n",
    "\n",
    "print(\"Wheat distribution on a 2x2 chessboard:\")\n",
    "print(wheat_distribution)\n"
   ]
  },
  {
   "cell_type": "markdown",
   "metadata": {},
   "source": [
    "## Problem 2: Extend the calculation to an n x m chessboard using a function.\n"
   ]
  },
  {
   "cell_type": "code",
   "execution_count": 2,
   "metadata": {},
   "outputs": [
    {
     "name": "stdout",
     "output_type": "stream",
     "text": [
      "Wheat distribution on an 8x8 chessboard:\n",
      "[[                   1                    2                    4\n",
      "                     8                   16                   32\n",
      "                    64                  128]\n",
      " [                 256                  512                 1024\n",
      "                  2048                 4096                 8192\n",
      "                 16384                32768]\n",
      " [               65536               131072               262144\n",
      "                524288              1048576              2097152\n",
      "               4194304              8388608]\n",
      " [            16777216             33554432             67108864\n",
      "             134217728            268435456            536870912\n",
      "            1073741824           2147483648]\n",
      " [          4294967296           8589934592          17179869184\n",
      "           34359738368          68719476736         137438953472\n",
      "          274877906944         549755813888]\n",
      " [       1099511627776        2199023255552        4398046511104\n",
      "         8796093022208       17592186044416       35184372088832\n",
      "        70368744177664      140737488355328]\n",
      " [     281474976710656      562949953421312     1125899906842624\n",
      "      2251799813685248     4503599627370496     9007199254740992\n",
      "     18014398509481984    36028797018963968]\n",
      " [   72057594037927936   144115188075855872   288230376151711744\n",
      "    576460752303423488  1152921504606846976  2305843009213693952\n",
      "   4611686018427387904 -9223372036854775808]]\n"
     ]
    }
   ],
   "source": [
    "def calculate_wheat_distribution(n, m):\n",
    "    # Initialize an n x m chessboard\n",
    "    board = np.arange(n * m).reshape(n, m)\n",
    "    \n",
    "    # Calculate wheat distribution\n",
    "    wheat_distribution = 2 ** board\n",
    "    \n",
    "    return wheat_distribution\n",
    "\n",
    "# Example usage for an 8x8 chessboard\n",
    "n = 8\n",
    "m = 8\n",
    "wheat_distribution_8x8 = calculate_wheat_distribution(n, m)\n",
    "print(\"Wheat distribution on an 8x8 chessboard:\")\n",
    "print(wheat_distribution_8x8)\n"
   ]
  },
  {
   "cell_type": "markdown",
   "metadata": {},
   "source": [
    "## Problem 3: Find the total number of wheat on an 8x8 chessboard and visualize column-wise averages using a bar chart.\n"
   ]
  },
  {
   "cell_type": "code",
   "execution_count": 5,
   "metadata": {},
   "outputs": [
    {
     "data": {
      "image/png": "[encoded data removed]",
      "text/plain": [
       "<Figure size 640x480 with 1 Axes>"
      ]
     },
     "metadata": {},
     "output_type": "display_data"
    },
    {
     "name": "stdout",
     "output_type": "stream",
     "text": [
      "Total number of wheat on an 8x8 chessboard: 18446744073709551615\n"
     ]
    }
   ],
   "source": [
    "import numpy as np\n",
    "import matplotlib.pyplot as plt\n",
    "\n",
    "# Define the function to calculate wheat distribution\n",
    "def calculate_wheat_distribution(n, m):\n",
    "    board = np.arange(n * m).reshape(n, m)\n",
    "    wheat_distribution = 2 ** board\n",
    "    return wheat_distribution\n",
    "\n",
    "# Calculate wheat distribution on an 8x8 chessboard\n",
    "n = 8\n",
    "m = 8\n",
    "wheat_distribution_8x8 = calculate_wheat_distribution(n, m)\n",
    "\n",
    "# Convert wheat distribution array to uint64\n",
    "wheat_distribution_8x8 = wheat_distribution_8x8.astype(np.uint64)\n",
    "\n",
    "# Total number of wheat on the 8x8 chessboard\n",
    "total_wheat_count = np.sum(wheat_distribution_8x8)\n",
    "\n",
    "# Calculate column-wise averages\n",
    "column_averages = np.mean(wheat_distribution_8x8, axis=0)\n",
    "\n",
    "# Visualize column-wise averages using a bar chart\n",
    "plt.bar(np.arange(1, m+1), column_averages)\n",
    "plt.xlabel(\"Column\")\n",
    "plt.ylabel(\"Average Wheat Count\")\n",
    "plt.title(\"Average Wheat Count in Each Column\")\n",
    "plt.show()\n",
    "\n",
    "print(\"Total number of wheat on an 8x8 chessboard:\", total_wheat_count)\n"
   ]
  },
  {
   "cell_type": "markdown",
   "metadata": {},
   "source": [
    "## Problem 4: Visualize wheat distribution on an 8x8 chessboard as a heatmap.\n"
   ]
  },
  {
   "cell_type": "code",
   "execution_count": 6,
   "metadata": {},
   "outputs": [
    {
     "data": {
      "image/png": "[encoded data removed]",
      "text/plain": [
       "<Figure size 640x480 with 2 Axes>"
      ]
     },
     "metadata": {},
     "output_type": "display_data"
    }
   ],
   "source": [
    "plt.imshow(wheat_distribution_8x8, cmap='hot', interpolation='nearest')\n",
    "plt.colorbar()\n",
    "plt.title(\"Wheat Distribution on an 8x8 Chessboard\")\n",
    "plt.show()\n"
   ]
  },
  {
   "cell_type": "markdown",
   "metadata": {},
   "source": [
    "## Problem 5: Calculate how many times the wheat in the second half of the chessboard exceeds the first half.\n"
   ]
  },
  {
   "cell_type": "code",
   "execution_count": 7,
   "metadata": {},
   "outputs": [
    {
     "name": "stdout",
     "output_type": "stream",
     "text": [
      "The wheat in the second half exceeds the first half by a factor of: 4294967296.0\n"
     ]
    }
   ],
   "source": [
    "first_half_wheat = np.sum(wheat_distribution_8x8[:n//2, :])\n",
    "second_half_wheat = np.sum(wheat_distribution_8x8[n//2:, :])\n",
    "\n",
    "times_exceed = second_half_wheat / first_half_wheat\n",
    "print(\"The wheat in the second half exceeds the first half by a factor of:\", times_exceed)\n"
   ]
  },
  {
   "cell_type": "markdown",
   "metadata": {},
   "source": [
    "## Problem 6: Implement alternative methods for calculating wheat distribution and apply them to an 8x8 chessboard.\n"
   ]
  },
  {
   "cell_type": "code",
   "execution_count": 8,
   "metadata": {},
   "outputs": [
    {
     "name": "stdout",
     "output_type": "stream",
     "text": [
      "Wheat distribution using np.append():\n",
      "[[                   1                    2                    4\n",
      "                     8                   16                   32\n",
      "                    64                  128]\n",
      " [                 256                  512                 1024\n",
      "                  2048                 4096                 8192\n",
      "                 16384                32768]\n",
      " [               65536               131072               262144\n",
      "                524288              1048576              2097152\n",
      "               4194304              8388608]\n",
      " [            16777216             33554432             67108864\n",
      "             134217728            268435456            536870912\n",
      "            1073741824           2147483648]\n",
      " [          4294967296           8589934592          17179869184\n",
      "           34359738368          68719476736         137438953472\n",
      "          274877906944         549755813888]\n",
      " [       1099511627776        2199023255552        4398046511104\n",
      "         8796093022208       17592186044416       35184372088832\n",
      "        70368744177664      140737488355328]\n",
      " [     281474976710656      562949953421312     1125899906842624\n",
      "      2251799813685248     4503599627370496     9007199254740992\n",
      "     18014398509481984    36028797018963968]\n",
      " [   72057594037927936   144115188075855872   288230376151711744\n",
      "    576460752303423488  1152921504606846976  2305843009213693952\n",
      "   4611686018427387904 -9223372036854775808]]\n",
      "\n",
      "Wheat distribution using broadcasting:\n",
      "[[                   1                    2                    4\n",
      "                     8                   16                   32\n",
      "                    64                  128]\n",
      " [                 256                  512                 1024\n",
      "                  2048                 4096                 8192\n",
      "                 16384                32768]\n",
      " [               65536               131072               262144\n",
      "                524288              1048576              2097152\n",
      "               4194304              8388608]\n",
      " [            16777216             33554432             67108864\n",
      "             134217728            268435456            536870912\n",
      "            1073741824           2147483648]\n",
      " [          4294967296           8589934592          17179869184\n",
      "           34359738368          68719476736         137438953472\n",
      "          274877906944         549755813888]\n",
      " [       1099511627776        2199023255552        4398046511104\n",
      "         8796093022208       17592186044416       35184372088832\n",
      "        70368744177664      140737488355328]\n",
      " [     281474976710656      562949953421312     1125899906842624\n",
      "      2251799813685248     4503599627370496     9007199254740992\n",
      "     18014398509481984    36028797018963968]\n",
      " [   72057594037927936   144115188075855872   288230376151711744\n",
      "    576460752303423488  1152921504606846976  2305843009213693952\n",
      "   4611686018427387904 -9223372036854775808]]\n"
     ]
    },
    {
     "name": "stderr",
     "output_type": "stream",
     "text": [
      "/tmp/ipykernel_11012/4203778512.py:5: RuntimeWarning: overflow encountered in scalar multiply\n",
      "  board = np.append(board, 2 * board[-1])\n"
     ]
    }
   ],
   "source": [
    "# Method using np.append()\n",
    "def calculate_wheat_distribution_append(n, m):\n",
    "    board = np.array([1])\n",
    "    for _ in range(n * m - 1):\n",
    "        board = np.append(board, 2 * board[-1])\n",
    "    return board.reshape(n, m)\n",
    "\n",
    "# Method using broadcasting\n",
    "def calculate_wheat_distribution_broadcast(n, m):\n",
    "    indices = np.arange(n * m)\n",
    "    board = 2 ** indices\n",
    "    return board.reshape(n, m)\n",
    "\n",
    "# Apply alternative methods to an 8x8 chessboard\n",
    "wheat_distribution_append = calculate_wheat_distribution_append(n, m)\n",
    "wheat_distribution_broadcast = calculate_wheat_distribution_broadcast(n, m)\n",
    "\n",
    "print(\"Wheat distribution using np.append():\")\n",
    "print(wheat_distribution_append)\n",
    "print(\"\\nWheat distribution using broadcasting:\")\n",
    "print(wheat_distribution_broadcast)\n"
   ]
  },
  {
   "cell_type": "markdown",
   "metadata": {},
   "source": [
    "## Problem 7: Compare the computation times of different methods using the Jupyter Notebook %%timeit magic command.\n"
   ]
  },
  {
   "cell_type": "code",
   "execution_count": 13,
   "metadata": {},
   "outputs": [
    {
     "name": "stdout",
     "output_type": "stream",
     "text": [
      "2.71 µs ± 88 ns per loop (mean ± std. dev. of 7 runs, 100,000 loops each)\n"
     ]
    }
   ],
   "source": [
    "%%timeit\n",
    "calculate_wheat_distribution(n, m)\n"
   ]
  },
  {
   "cell_type": "code",
   "execution_count": 14,
   "metadata": {},
   "outputs": [
    {
     "name": "stderr",
     "output_type": "stream",
     "text": [
      "/tmp/ipykernel_11012/4203778512.py:5: RuntimeWarning: overflow encountered in scalar multiply\n",
      "  board = np.append(board, 2 * board[-1])\n"
     ]
    },
    {
     "name": "stdout",
     "output_type": "stream",
     "text": [
      "227 µs ± 12 µs per loop (mean ± std. dev. of 7 runs, 1,000 loops each)\n"
     ]
    }
   ],
   "source": [
    "%%timeit\n",
    "calculate_wheat_distribution_append(n, m)"
   ]
  },
  {
   "cell_type": "code",
   "execution_count": 15,
   "metadata": {},
   "outputs": [
    {
     "name": "stdout",
     "output_type": "stream",
     "text": [
      "2.95 µs ± 103 ns per loop (mean ± std. dev. of 7 runs, 100,000 loops each)\n"
     ]
    }
   ],
   "source": [
    "%%timeit\n",
    "calculate_wheat_distribution_broadcast(n, m)"
   ]
  },
  {
   "cell_type": "code",
   "execution_count": null,
   "metadata": {},
   "outputs": [],
   "source": []
  }
 ],
 "metadata": {
  "kernelspec": {
   "display_name": "dpro",
   "language": "python",
   "name": "python3"
  },
  "language_info": {
   "codemirror_mode": {
    "name": "ipython",
    "version": 3
   },
   "file_extension": ".py",
   "mimetype": "text/x-python",
   "name": "python",
   "nbconvert_exporter": "python",
   "pygments_lexer": "ipython3",
   "version": "3.10.12"
  }
 },
 "nbformat": 4,
 "nbformat_minor": 2
}
