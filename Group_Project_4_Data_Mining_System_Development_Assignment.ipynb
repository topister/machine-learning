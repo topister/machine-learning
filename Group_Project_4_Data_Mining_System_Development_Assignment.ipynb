{
  "cells": [
    {
      "cell_type": "markdown",
      "source": [
        "## Group members\n",
        "\n",
        "1.   Myra Lugwiri\n",
        "2.   Topister Onyango\n",
        "\n"
      ],
      "metadata": {
        "id": "X5BNo0nayFTx"
      }
    },
    {
      "cell_type": "markdown",
      "source": [
        "#### Data Source\n",
        "> Data made available for the financial inclusion in Africa competition on the platform Zindi https://zindi.africa/competitions/financial-inclusion-in-africa/data\n",
        "\n"
      ],
      "metadata": {
        "id": "Iy8zn8AgkHDT"
      }
    },
    {
      "cell_type": "code",
      "execution_count": null,
      "metadata": {
        "id": "9NqYldJ1maTc"
      },
      "outputs": [],
      "source": [
        "# Import necessary libraries\n",
        "import pandas as pd\n",
        "from sklearn.model_selection import train_test_split\n",
        "from sklearn.ensemble import RandomForestClassifier\n",
        "from sklearn.metrics import accuracy_score, classification_report, confusion_matrix\n",
        "import seaborn as sns\n",
        "import matplotlib.pyplot as plt\n",
        "import pandas as pd\n",
        "from sklearn.model_selection import train_test_split\n",
        "from sklearn.preprocessing import StandardScaler, LabelEncoder, OneHotEncoder\n"
      ]
    },
    {
      "cell_type": "code",
      "execution_count": null,
      "metadata": {
        "id": "aBTLuobTmgpB",
        "colab": {
          "base_uri": "https://localhost:8080/"
        },
        "outputId": "2d90f7c4-1674-4d88-ea7f-57e353b32769"
      },
      "outputs": [
        {
          "output_type": "stream",
          "name": "stdout",
          "text": [
            "Mounted at /content/drive\n"
          ]
        }
      ],
      "source": [
        "from google.colab import drive\n",
        "drive.mount('/content/drive')"
      ]
    },
    {
      "cell_type": "code",
      "execution_count": null,
      "metadata": {
        "id": "Y-h7RgTOmnVc"
      },
      "outputs": [],
      "source": [
        "#Loading the data\n",
        "train_data = pd.read_csv('/content/drive/MyDrive/Machine_Learning/assignments/competition/financial_inclusion/Train.csv')\n",
        "test_data = pd.read_csv('/content/drive/MyDrive/Machine_Learning/assignments/competition/financial_inclusion/Test.csv')\n"
      ]
    },
    {
      "cell_type": "code",
      "execution_count": null,
      "metadata": {
        "id": "uqAjQJjKnKRY",
        "colab": {
          "base_uri": "https://localhost:8080/",
          "height": 330
        },
        "outputId": "2609e361-e2b9-411c-d416-f8cbb7f17d64"
      },
      "outputs": [
        {
          "output_type": "execute_result",
          "data": {
            "text/plain": [
              "  country  year    uniqueid bank_account location_type cellphone_access  \\\n",
              "0   Kenya  2018  uniqueid_1          Yes         Rural              Yes   \n",
              "1   Kenya  2018  uniqueid_2           No         Rural               No   \n",
              "2   Kenya  2018  uniqueid_3          Yes         Urban              Yes   \n",
              "3   Kenya  2018  uniqueid_4           No         Rural              Yes   \n",
              "4   Kenya  2018  uniqueid_5           No         Urban               No   \n",
              "\n",
              "   household_size  age_of_respondent gender_of_respondent  \\\n",
              "0               3                 24               Female   \n",
              "1               5                 70               Female   \n",
              "2               5                 26                 Male   \n",
              "3               5                 34               Female   \n",
              "4               8                 26                 Male   \n",
              "\n",
              "  relationship_with_head           marital_status  \\\n",
              "0                 Spouse  Married/Living together   \n",
              "1      Head of Household                  Widowed   \n",
              "2         Other relative     Single/Never Married   \n",
              "3      Head of Household  Married/Living together   \n",
              "4                  Child     Single/Never Married   \n",
              "\n",
              "                   education_level                   job_type  \n",
              "0              Secondary education              Self employed  \n",
              "1              No formal education       Government Dependent  \n",
              "2  Vocational/Specialised training              Self employed  \n",
              "3                Primary education  Formally employed Private  \n",
              "4                Primary education        Informally employed  "
            ],
            "text/html": [
              "\n",
              "  <div id=\"df-652b9e9f-0ce7-4d45-95d8-5025102b135e\" class=\"colab-df-container\">\n",
              "    <div>\n",
              "<style scoped>\n",
              "    .dataframe tbody tr th:only-of-type {\n",
              "        vertical-align: middle;\n",
              "    }\n",
              "\n",
              "    .dataframe tbody tr th {\n",
              "        vertical-align: top;\n",
              "    }\n",
              "\n",
              "    .dataframe thead th {\n",
              "        text-align: right;\n",
              "    }\n",
              "</style>\n",
              "<table border=\"1\" class=\"dataframe\">\n",
              "  <thead>\n",
              "    <tr style=\"text-align: right;\">\n",
              "      <th></th>\n",
              "      <th>country</th>\n",
              "      <th>year</th>\n",
              "      <th>uniqueid</th>\n",
              "      <th>bank_account</th>\n",
              "      <th>location_type</th>\n",
              "      <th>cellphone_access</th>\n",
              "      <th>household_size</th>\n",
              "      <th>age_of_respondent</th>\n",
              "      <th>gender_of_respondent</th>\n",
              "      <th>relationship_with_head</th>\n",
              "      <th>marital_status</th>\n",
              "      <th>education_level</th>\n",
              "      <th>job_type</th>\n",
              "    </tr>\n",
              "  </thead>\n",
              "  <tbody>\n",
              "    <tr>\n",
              "      <th>0</th>\n",
              "      <td>Kenya</td>\n",
              "      <td>2018</td>\n",
              "      <td>uniqueid_1</td>\n",
              "      <td>Yes</td>\n",
              "      <td>Rural</td>\n",
              "      <td>Yes</td>\n",
              "      <td>3</td>\n",
              "      <td>24</td>\n",
              "      <td>Female</td>\n",
              "      <td>Spouse</td>\n",
              "      <td>Married/Living together</td>\n",
              "      <td>Secondary education</td>\n",
              "      <td>Self employed</td>\n",
              "    </tr>\n",
              "    <tr>\n",
              "      <th>1</th>\n",
              "      <td>Kenya</td>\n",
              "      <td>2018</td>\n",
              "      <td>uniqueid_2</td>\n",
              "      <td>No</td>\n",
              "      <td>Rural</td>\n",
              "      <td>No</td>\n",
              "      <td>5</td>\n",
              "      <td>70</td>\n",
              "      <td>Female</td>\n",
              "      <td>Head of Household</td>\n",
              "      <td>Widowed</td>\n",
              "      <td>No formal education</td>\n",
              "      <td>Government Dependent</td>\n",
              "    </tr>\n",
              "    <tr>\n",
              "      <th>2</th>\n",
              "      <td>Kenya</td>\n",
              "      <td>2018</td>\n",
              "      <td>uniqueid_3</td>\n",
              "      <td>Yes</td>\n",
              "      <td>Urban</td>\n",
              "      <td>Yes</td>\n",
              "      <td>5</td>\n",
              "      <td>26</td>\n",
              "      <td>Male</td>\n",
              "      <td>Other relative</td>\n",
              "      <td>Single/Never Married</td>\n",
              "      <td>Vocational/Specialised training</td>\n",
              "      <td>Self employed</td>\n",
              "    </tr>\n",
              "    <tr>\n",
              "      <th>3</th>\n",
              "      <td>Kenya</td>\n",
              "      <td>2018</td>\n",
              "      <td>uniqueid_4</td>\n",
              "      <td>No</td>\n",
              "      <td>Rural</td>\n",
              "      <td>Yes</td>\n",
              "      <td>5</td>\n",
              "      <td>34</td>\n",
              "      <td>Female</td>\n",
              "      <td>Head of Household</td>\n",
              "      <td>Married/Living together</td>\n",
              "      <td>Primary education</td>\n",
              "      <td>Formally employed Private</td>\n",
              "    </tr>\n",
              "    <tr>\n",
              "      <th>4</th>\n",
              "      <td>Kenya</td>\n",
              "      <td>2018</td>\n",
              "      <td>uniqueid_5</td>\n",
              "      <td>No</td>\n",
              "      <td>Urban</td>\n",
              "      <td>No</td>\n",
              "      <td>8</td>\n",
              "      <td>26</td>\n",
              "      <td>Male</td>\n",
              "      <td>Child</td>\n",
              "      <td>Single/Never Married</td>\n",
              "      <td>Primary education</td>\n",
              "      <td>Informally employed</td>\n",
              "    </tr>\n",
              "  </tbody>\n",
              "</table>\n",
              "</div>\n",
              "    <div class=\"colab-df-buttons\">\n",
              "\n",
              "  <div class=\"colab-df-container\">\n",
              "    <button class=\"colab-df-convert\" onclick=\"convertToInteractive('df-652b9e9f-0ce7-4d45-95d8-5025102b135e')\"\n",
              "            title=\"Convert this dataframe to an interactive table.\"\n",
              "            style=\"display:none;\">\n",
              "\n",
              "  <svg xmlns=\"http://www.w3.org/2000/svg\" height=\"24px\" viewBox=\"0 -960 960 960\">\n",
              "    <path d=\"M120-120v-720h720v720H120Zm60-500h600v-160H180v160Zm220 220h160v-160H400v160Zm0 220h160v-160H400v160ZM180-400h160v-160H180v160Zm440 0h160v-160H620v160ZM180-180h160v-160H180v160Zm440 0h160v-160H620v160Z\"/>\n",
              "  </svg>\n",
              "    </button>\n",
              "\n",
              "  <style>\n",
              "    .colab-df-container {\n",
              "      display:flex;\n",
              "      gap: 12px;\n",
              "    }\n",
              "\n",
              "    .colab-df-convert {\n",
              "      background-color: #E8F0FE;\n",
              "      border: none;\n",
              "      border-radius: 50%;\n",
              "      cursor: pointer;\n",
              "      display: none;\n",
              "      fill: #1967D2;\n",
              "      height: 32px;\n",
              "      padding: 0 0 0 0;\n",
              "      width: 32px;\n",
              "    }\n",
              "\n",
              "    .colab-df-convert:hover {\n",
              "      background-color: #E2EBFA;\n",
              "      box-shadow: 0px 1px 2px rgba(60, 64, 67, 0.3), 0px 1px 3px 1px rgba(60, 64, 67, 0.15);\n",
              "      fill: #174EA6;\n",
              "    }\n",
              "\n",
              "    .colab-df-buttons div {\n",
              "      margin-bottom: 4px;\n",
              "    }\n",
              "\n",
              "    [theme=dark] .colab-df-convert {\n",
              "      background-color: #3B4455;\n",
              "      fill: #D2E3FC;\n",
              "    }\n",
              "\n",
              "    [theme=dark] .colab-df-convert:hover {\n",
              "      background-color: #434B5C;\n",
              "      box-shadow: 0px 1px 3px 1px rgba(0, 0, 0, 0.15);\n",
              "      filter: drop-shadow(0px 1px 2px rgba(0, 0, 0, 0.3));\n",
              "      fill: #FFFFFF;\n",
              "    }\n",
              "  </style>\n",
              "\n",
              "    <script>\n",
              "      const buttonEl =\n",
              "        document.querySelector('#df-652b9e9f-0ce7-4d45-95d8-5025102b135e button.colab-df-convert');\n",
              "      buttonEl.style.display =\n",
              "        google.colab.kernel.accessAllowed ? 'block' : 'none';\n",
              "\n",
              "      async function convertToInteractive(key) {\n",
              "        const element = document.querySelector('#df-652b9e9f-0ce7-4d45-95d8-5025102b135e');\n",
              "        const dataTable =\n",
              "          await google.colab.kernel.invokeFunction('convertToInteractive',\n",
              "                                                    [key], {});\n",
              "        if (!dataTable) return;\n",
              "\n",
              "        const docLinkHtml = 'Like what you see? Visit the ' +\n",
              "          '<a target=\"_blank\" href=https://colab.research.google.com/notebooks/data_table.ipynb>data table notebook</a>'\n",
              "          + ' to learn more about interactive tables.';\n",
              "        element.innerHTML = '';\n",
              "        dataTable['output_type'] = 'display_data';\n",
              "        await google.colab.output.renderOutput(dataTable, element);\n",
              "        const docLink = document.createElement('div');\n",
              "        docLink.innerHTML = docLinkHtml;\n",
              "        element.appendChild(docLink);\n",
              "      }\n",
              "    </script>\n",
              "  </div>\n",
              "\n",
              "\n",
              "<div id=\"df-2f2faf50-5cc6-4f95-a524-4264b54166f2\">\n",
              "  <button class=\"colab-df-quickchart\" onclick=\"quickchart('df-2f2faf50-5cc6-4f95-a524-4264b54166f2')\"\n",
              "            title=\"Suggest charts\"\n",
              "            style=\"display:none;\">\n",
              "\n",
              "<svg xmlns=\"http://www.w3.org/2000/svg\" height=\"24px\"viewBox=\"0 0 24 24\"\n",
              "     width=\"24px\">\n",
              "    <g>\n",
              "        <path d=\"M19 3H5c-1.1 0-2 .9-2 2v14c0 1.1.9 2 2 2h14c1.1 0 2-.9 2-2V5c0-1.1-.9-2-2-2zM9 17H7v-7h2v7zm4 0h-2V7h2v10zm4 0h-2v-4h2v4z\"/>\n",
              "    </g>\n",
              "</svg>\n",
              "  </button>\n",
              "\n",
              "<style>\n",
              "  .colab-df-quickchart {\n",
              "      --bg-color: #E8F0FE;\n",
              "      --fill-color: #1967D2;\n",
              "      --hover-bg-color: #E2EBFA;\n",
              "      --hover-fill-color: #174EA6;\n",
              "      --disabled-fill-color: #AAA;\n",
              "      --disabled-bg-color: #DDD;\n",
              "  }\n",
              "\n",
              "  [theme=dark] .colab-df-quickchart {\n",
              "      --bg-color: #3B4455;\n",
              "      --fill-color: #D2E3FC;\n",
              "      --hover-bg-color: #434B5C;\n",
              "      --hover-fill-color: #FFFFFF;\n",
              "      --disabled-bg-color: #3B4455;\n",
              "      --disabled-fill-color: #666;\n",
              "  }\n",
              "\n",
              "  .colab-df-quickchart {\n",
              "    background-color: var(--bg-color);\n",
              "    border: none;\n",
              "    border-radius: 50%;\n",
              "    cursor: pointer;\n",
              "    display: none;\n",
              "    fill: var(--fill-color);\n",
              "    height: 32px;\n",
              "    padding: 0;\n",
              "    width: 32px;\n",
              "  }\n",
              "\n",
              "  .colab-df-quickchart:hover {\n",
              "    background-color: var(--hover-bg-color);\n",
              "    box-shadow: 0 1px 2px rgba(60, 64, 67, 0.3), 0 1px 3px 1px rgba(60, 64, 67, 0.15);\n",
              "    fill: var(--button-hover-fill-color);\n",
              "  }\n",
              "\n",
              "  .colab-df-quickchart-complete:disabled,\n",
              "  .colab-df-quickchart-complete:disabled:hover {\n",
              "    background-color: var(--disabled-bg-color);\n",
              "    fill: var(--disabled-fill-color);\n",
              "    box-shadow: none;\n",
              "  }\n",
              "\n",
              "  .colab-df-spinner {\n",
              "    border: 2px solid var(--fill-color);\n",
              "    border-color: transparent;\n",
              "    border-bottom-color: var(--fill-color);\n",
              "    animation:\n",
              "      spin 1s steps(1) infinite;\n",
              "  }\n",
              "\n",
              "  @keyframes spin {\n",
              "    0% {\n",
              "      border-color: transparent;\n",
              "      border-bottom-color: var(--fill-color);\n",
              "      border-left-color: var(--fill-color);\n",
              "    }\n",
              "    20% {\n",
              "      border-color: transparent;\n",
              "      border-left-color: var(--fill-color);\n",
              "      border-top-color: var(--fill-color);\n",
              "    }\n",
              "    30% {\n",
              "      border-color: transparent;\n",
              "      border-left-color: var(--fill-color);\n",
              "      border-top-color: var(--fill-color);\n",
              "      border-right-color: var(--fill-color);\n",
              "    }\n",
              "    40% {\n",
              "      border-color: transparent;\n",
              "      border-right-color: var(--fill-color);\n",
              "      border-top-color: var(--fill-color);\n",
              "    }\n",
              "    60% {\n",
              "      border-color: transparent;\n",
              "      border-right-color: var(--fill-color);\n",
              "    }\n",
              "    80% {\n",
              "      border-color: transparent;\n",
              "      border-right-color: var(--fill-color);\n",
              "      border-bottom-color: var(--fill-color);\n",
              "    }\n",
              "    90% {\n",
              "      border-color: transparent;\n",
              "      border-bottom-color: var(--fill-color);\n",
              "    }\n",
              "  }\n",
              "</style>\n",
              "\n",
              "  <script>\n",
              "    async function quickchart(key) {\n",
              "      const quickchartButtonEl =\n",
              "        document.querySelector('#' + key + ' button');\n",
              "      quickchartButtonEl.disabled = true;  // To prevent multiple clicks.\n",
              "      quickchartButtonEl.classList.add('colab-df-spinner');\n",
              "      try {\n",
              "        const charts = await google.colab.kernel.invokeFunction(\n",
              "            'suggestCharts', [key], {});\n",
              "      } catch (error) {\n",
              "        console.error('Error during call to suggestCharts:', error);\n",
              "      }\n",
              "      quickchartButtonEl.classList.remove('colab-df-spinner');\n",
              "      quickchartButtonEl.classList.add('colab-df-quickchart-complete');\n",
              "    }\n",
              "    (() => {\n",
              "      let quickchartButtonEl =\n",
              "        document.querySelector('#df-2f2faf50-5cc6-4f95-a524-4264b54166f2 button');\n",
              "      quickchartButtonEl.style.display =\n",
              "        google.colab.kernel.accessAllowed ? 'block' : 'none';\n",
              "    })();\n",
              "  </script>\n",
              "</div>\n",
              "    </div>\n",
              "  </div>\n"
            ],
            "application/vnd.google.colaboratory.intrinsic+json": {
              "type": "dataframe",
              "variable_name": "train_data",
              "summary": "{\n  \"name\": \"train_data\",\n  \"rows\": 23524,\n  \"fields\": [\n    {\n      \"column\": \"country\",\n      \"properties\": {\n        \"dtype\": \"category\",\n        \"num_unique_values\": 4,\n        \"samples\": [\n          \"Rwanda\",\n          \"Uganda\",\n          \"Kenya\"\n        ],\n        \"semantic_type\": \"\",\n        \"description\": \"\"\n      }\n    },\n    {\n      \"column\": \"year\",\n      \"properties\": {\n        \"dtype\": \"number\",\n        \"std\": 0,\n        \"min\": 2016,\n        \"max\": 2018,\n        \"num_unique_values\": 3,\n        \"samples\": [\n          2018,\n          2016,\n          2017\n        ],\n        \"semantic_type\": \"\",\n        \"description\": \"\"\n      }\n    },\n    {\n      \"column\": \"uniqueid\",\n      \"properties\": {\n        \"dtype\": \"category\",\n        \"num_unique_values\": 8735,\n        \"samples\": [\n          \"uniqueid_3028\",\n          \"uniqueid_1722\",\n          \"uniqueid_1264\"\n        ],\n        \"semantic_type\": \"\",\n        \"description\": \"\"\n      }\n    },\n    {\n      \"column\": \"bank_account\",\n      \"properties\": {\n        \"dtype\": \"category\",\n        \"num_unique_values\": 2,\n        \"samples\": [\n          \"No\",\n          \"Yes\"\n        ],\n        \"semantic_type\": \"\",\n        \"description\": \"\"\n      }\n    },\n    {\n      \"column\": \"location_type\",\n      \"properties\": {\n        \"dtype\": \"category\",\n        \"num_unique_values\": 2,\n        \"samples\": [\n          \"Urban\",\n          \"Rural\"\n        ],\n        \"semantic_type\": \"\",\n        \"description\": \"\"\n      }\n    },\n    {\n      \"column\": \"cellphone_access\",\n      \"properties\": {\n        \"dtype\": \"category\",\n        \"num_unique_values\": 2,\n        \"samples\": [\n          \"No\",\n          \"Yes\"\n        ],\n        \"semantic_type\": \"\",\n        \"description\": \"\"\n      }\n    },\n    {\n      \"column\": \"household_size\",\n      \"properties\": {\n        \"dtype\": \"number\",\n        \"std\": 2,\n        \"min\": 1,\n        \"max\": 21,\n        \"num_unique_values\": 20,\n        \"samples\": [\n          3,\n          18\n        ],\n        \"semantic_type\": \"\",\n        \"description\": \"\"\n      }\n    },\n    {\n      \"column\": \"age_of_respondent\",\n      \"properties\": {\n        \"dtype\": \"number\",\n        \"std\": 16,\n        \"min\": 16,\n        \"max\": 100,\n        \"num_unique_values\": 85,\n        \"samples\": [\n          92,\n          24\n        ],\n        \"semantic_type\": \"\",\n        \"description\": \"\"\n      }\n    },\n    {\n      \"column\": \"gender_of_respondent\",\n      \"properties\": {\n        \"dtype\": \"category\",\n        \"num_unique_values\": 2,\n        \"samples\": [\n          \"Male\",\n          \"Female\"\n        ],\n        \"semantic_type\": \"\",\n        \"description\": \"\"\n      }\n    },\n    {\n      \"column\": \"relationship_with_head\",\n      \"properties\": {\n        \"dtype\": \"category\",\n        \"num_unique_values\": 6,\n        \"samples\": [\n          \"Spouse\",\n          \"Head of Household\"\n        ],\n        \"semantic_type\": \"\",\n        \"description\": \"\"\n      }\n    },\n    {\n      \"column\": \"marital_status\",\n      \"properties\": {\n        \"dtype\": \"category\",\n        \"num_unique_values\": 5,\n        \"samples\": [\n          \"Widowed\",\n          \"Dont know\"\n        ],\n        \"semantic_type\": \"\",\n        \"description\": \"\"\n      }\n    },\n    {\n      \"column\": \"education_level\",\n      \"properties\": {\n        \"dtype\": \"category\",\n        \"num_unique_values\": 6,\n        \"samples\": [\n          \"Secondary education\",\n          \"No formal education\"\n        ],\n        \"semantic_type\": \"\",\n        \"description\": \"\"\n      }\n    },\n    {\n      \"column\": \"job_type\",\n      \"properties\": {\n        \"dtype\": \"category\",\n        \"num_unique_values\": 10,\n        \"samples\": [\n          \"Dont Know/Refuse to answer\",\n          \"Government Dependent\"\n        ],\n        \"semantic_type\": \"\",\n        \"description\": \"\"\n      }\n    }\n  ]\n}"
            }
          },
          "metadata": {},
          "execution_count": 4
        }
      ],
      "source": [
        "#looking into the data\n",
        "train_data.head()\n"
      ]
    },
    {
      "cell_type": "code",
      "execution_count": null,
      "metadata": {
        "id": "GkSh4nqo3Aa1",
        "colab": {
          "base_uri": "https://localhost:8080/"
        },
        "outputId": "83e0d38f-c458-40bf-bff9-b5497eee0321"
      },
      "outputs": [
        {
          "output_type": "stream",
          "name": "stdout",
          "text": [
            "<class 'pandas.core.frame.DataFrame'>\n",
            "RangeIndex: 23524 entries, 0 to 23523\n",
            "Data columns (total 13 columns):\n",
            " #   Column                  Non-Null Count  Dtype \n",
            "---  ------                  --------------  ----- \n",
            " 0   country                 23524 non-null  object\n",
            " 1   year                    23524 non-null  int64 \n",
            " 2   uniqueid                23524 non-null  object\n",
            " 3   bank_account            23524 non-null  object\n",
            " 4   location_type           23524 non-null  object\n",
            " 5   cellphone_access        23524 non-null  object\n",
            " 6   household_size          23524 non-null  int64 \n",
            " 7   age_of_respondent       23524 non-null  int64 \n",
            " 8   gender_of_respondent    23524 non-null  object\n",
            " 9   relationship_with_head  23524 non-null  object\n",
            " 10  marital_status          23524 non-null  object\n",
            " 11  education_level         23524 non-null  object\n",
            " 12  job_type                23524 non-null  object\n",
            "dtypes: int64(3), object(10)\n",
            "memory usage: 2.3+ MB\n"
          ]
        }
      ],
      "source": [
        "#assessing the data types\n",
        "train_data.info()"
      ]
    },
    {
      "cell_type": "code",
      "execution_count": null,
      "metadata": {
        "id": "hcQ-UKnR3Hgo",
        "colab": {
          "base_uri": "https://localhost:8080/",
          "height": 300
        },
        "outputId": "585534a3-bdd9-47c9-85ef-04147c83e597"
      },
      "outputs": [
        {
          "output_type": "execute_result",
          "data": {
            "text/plain": [
              "               year  household_size  age_of_respondent\n",
              "count  23524.000000    23524.000000       23524.000000\n",
              "mean    2016.975939        3.797483          38.805220\n",
              "std        0.847371        2.227613          16.520569\n",
              "min     2016.000000        1.000000          16.000000\n",
              "25%     2016.000000        2.000000          26.000000\n",
              "50%     2017.000000        3.000000          35.000000\n",
              "75%     2018.000000        5.000000          49.000000\n",
              "max     2018.000000       21.000000         100.000000"
            ],
            "text/html": [
              "\n",
              "  <div id=\"df-2daf4763-56ac-484d-9d78-bf0b68dd99a6\" class=\"colab-df-container\">\n",
              "    <div>\n",
              "<style scoped>\n",
              "    .dataframe tbody tr th:only-of-type {\n",
              "        vertical-align: middle;\n",
              "    }\n",
              "\n",
              "    .dataframe tbody tr th {\n",
              "        vertical-align: top;\n",
              "    }\n",
              "\n",
              "    .dataframe thead th {\n",
              "        text-align: right;\n",
              "    }\n",
              "</style>\n",
              "<table border=\"1\" class=\"dataframe\">\n",
              "  <thead>\n",
              "    <tr style=\"text-align: right;\">\n",
              "      <th></th>\n",
              "      <th>year</th>\n",
              "      <th>household_size</th>\n",
              "      <th>age_of_respondent</th>\n",
              "    </tr>\n",
              "  </thead>\n",
              "  <tbody>\n",
              "    <tr>\n",
              "      <th>count</th>\n",
              "      <td>23524.000000</td>\n",
              "      <td>23524.000000</td>\n",
              "      <td>23524.000000</td>\n",
              "    </tr>\n",
              "    <tr>\n",
              "      <th>mean</th>\n",
              "      <td>2016.975939</td>\n",
              "      <td>3.797483</td>\n",
              "      <td>38.805220</td>\n",
              "    </tr>\n",
              "    <tr>\n",
              "      <th>std</th>\n",
              "      <td>0.847371</td>\n",
              "      <td>2.227613</td>\n",
              "      <td>16.520569</td>\n",
              "    </tr>\n",
              "    <tr>\n",
              "      <th>min</th>\n",
              "      <td>2016.000000</td>\n",
              "      <td>1.000000</td>\n",
              "      <td>16.000000</td>\n",
              "    </tr>\n",
              "    <tr>\n",
              "      <th>25%</th>\n",
              "      <td>2016.000000</td>\n",
              "      <td>2.000000</td>\n",
              "      <td>26.000000</td>\n",
              "    </tr>\n",
              "    <tr>\n",
              "      <th>50%</th>\n",
              "      <td>2017.000000</td>\n",
              "      <td>3.000000</td>\n",
              "      <td>35.000000</td>\n",
              "    </tr>\n",
              "    <tr>\n",
              "      <th>75%</th>\n",
              "      <td>2018.000000</td>\n",
              "      <td>5.000000</td>\n",
              "      <td>49.000000</td>\n",
              "    </tr>\n",
              "    <tr>\n",
              "      <th>max</th>\n",
              "      <td>2018.000000</td>\n",
              "      <td>21.000000</td>\n",
              "      <td>100.000000</td>\n",
              "    </tr>\n",
              "  </tbody>\n",
              "</table>\n",
              "</div>\n",
              "    <div class=\"colab-df-buttons\">\n",
              "\n",
              "  <div class=\"colab-df-container\">\n",
              "    <button class=\"colab-df-convert\" onclick=\"convertToInteractive('df-2daf4763-56ac-484d-9d78-bf0b68dd99a6')\"\n",
              "            title=\"Convert this dataframe to an interactive table.\"\n",
              "            style=\"display:none;\">\n",
              "\n",
              "  <svg xmlns=\"http://www.w3.org/2000/svg\" height=\"24px\" viewBox=\"0 -960 960 960\">\n",
              "    <path d=\"M120-120v-720h720v720H120Zm60-500h600v-160H180v160Zm220 220h160v-160H400v160Zm0 220h160v-160H400v160ZM180-400h160v-160H180v160Zm440 0h160v-160H620v160ZM180-180h160v-160H180v160Zm440 0h160v-160H620v160Z\"/>\n",
              "  </svg>\n",
              "    </button>\n",
              "\n",
              "  <style>\n",
              "    .colab-df-container {\n",
              "      display:flex;\n",
              "      gap: 12px;\n",
              "    }\n",
              "\n",
              "    .colab-df-convert {\n",
              "      background-color: #E8F0FE;\n",
              "      border: none;\n",
              "      border-radius: 50%;\n",
              "      cursor: pointer;\n",
              "      display: none;\n",
              "      fill: #1967D2;\n",
              "      height: 32px;\n",
              "      padding: 0 0 0 0;\n",
              "      width: 32px;\n",
              "    }\n",
              "\n",
              "    .colab-df-convert:hover {\n",
              "      background-color: #E2EBFA;\n",
              "      box-shadow: 0px 1px 2px rgba(60, 64, 67, 0.3), 0px 1px 3px 1px rgba(60, 64, 67, 0.15);\n",
              "      fill: #174EA6;\n",
              "    }\n",
              "\n",
              "    .colab-df-buttons div {\n",
              "      margin-bottom: 4px;\n",
              "    }\n",
              "\n",
              "    [theme=dark] .colab-df-convert {\n",
              "      background-color: #3B4455;\n",
              "      fill: #D2E3FC;\n",
              "    }\n",
              "\n",
              "    [theme=dark] .colab-df-convert:hover {\n",
              "      background-color: #434B5C;\n",
              "      box-shadow: 0px 1px 3px 1px rgba(0, 0, 0, 0.15);\n",
              "      filter: drop-shadow(0px 1px 2px rgba(0, 0, 0, 0.3));\n",
              "      fill: #FFFFFF;\n",
              "    }\n",
              "  </style>\n",
              "\n",
              "    <script>\n",
              "      const buttonEl =\n",
              "        document.querySelector('#df-2daf4763-56ac-484d-9d78-bf0b68dd99a6 button.colab-df-convert');\n",
              "      buttonEl.style.display =\n",
              "        google.colab.kernel.accessAllowed ? 'block' : 'none';\n",
              "\n",
              "      async function convertToInteractive(key) {\n",
              "        const element = document.querySelector('#df-2daf4763-56ac-484d-9d78-bf0b68dd99a6');\n",
              "        const dataTable =\n",
              "          await google.colab.kernel.invokeFunction('convertToInteractive',\n",
              "                                                    [key], {});\n",
              "        if (!dataTable) return;\n",
              "\n",
              "        const docLinkHtml = 'Like what you see? Visit the ' +\n",
              "          '<a target=\"_blank\" href=https://colab.research.google.com/notebooks/data_table.ipynb>data table notebook</a>'\n",
              "          + ' to learn more about interactive tables.';\n",
              "        element.innerHTML = '';\n",
              "        dataTable['output_type'] = 'display_data';\n",
              "        await google.colab.output.renderOutput(dataTable, element);\n",
              "        const docLink = document.createElement('div');\n",
              "        docLink.innerHTML = docLinkHtml;\n",
              "        element.appendChild(docLink);\n",
              "      }\n",
              "    </script>\n",
              "  </div>\n",
              "\n",
              "\n",
              "<div id=\"df-0b01c86e-176a-4685-b9d7-9bed6834c95a\">\n",
              "  <button class=\"colab-df-quickchart\" onclick=\"quickchart('df-0b01c86e-176a-4685-b9d7-9bed6834c95a')\"\n",
              "            title=\"Suggest charts\"\n",
              "            style=\"display:none;\">\n",
              "\n",
              "<svg xmlns=\"http://www.w3.org/2000/svg\" height=\"24px\"viewBox=\"0 0 24 24\"\n",
              "     width=\"24px\">\n",
              "    <g>\n",
              "        <path d=\"M19 3H5c-1.1 0-2 .9-2 2v14c0 1.1.9 2 2 2h14c1.1 0 2-.9 2-2V5c0-1.1-.9-2-2-2zM9 17H7v-7h2v7zm4 0h-2V7h2v10zm4 0h-2v-4h2v4z\"/>\n",
              "    </g>\n",
              "</svg>\n",
              "  </button>\n",
              "\n",
              "<style>\n",
              "  .colab-df-quickchart {\n",
              "      --bg-color: #E8F0FE;\n",
              "      --fill-color: #1967D2;\n",
              "      --hover-bg-color: #E2EBFA;\n",
              "      --hover-fill-color: #174EA6;\n",
              "      --disabled-fill-color: #AAA;\n",
              "      --disabled-bg-color: #DDD;\n",
              "  }\n",
              "\n",
              "  [theme=dark] .colab-df-quickchart {\n",
              "      --bg-color: #3B4455;\n",
              "      --fill-color: #D2E3FC;\n",
              "      --hover-bg-color: #434B5C;\n",
              "      --hover-fill-color: #FFFFFF;\n",
              "      --disabled-bg-color: #3B4455;\n",
              "      --disabled-fill-color: #666;\n",
              "  }\n",
              "\n",
              "  .colab-df-quickchart {\n",
              "    background-color: var(--bg-color);\n",
              "    border: none;\n",
              "    border-radius: 50%;\n",
              "    cursor: pointer;\n",
              "    display: none;\n",
              "    fill: var(--fill-color);\n",
              "    height: 32px;\n",
              "    padding: 0;\n",
              "    width: 32px;\n",
              "  }\n",
              "\n",
              "  .colab-df-quickchart:hover {\n",
              "    background-color: var(--hover-bg-color);\n",
              "    box-shadow: 0 1px 2px rgba(60, 64, 67, 0.3), 0 1px 3px 1px rgba(60, 64, 67, 0.15);\n",
              "    fill: var(--button-hover-fill-color);\n",
              "  }\n",
              "\n",
              "  .colab-df-quickchart-complete:disabled,\n",
              "  .colab-df-quickchart-complete:disabled:hover {\n",
              "    background-color: var(--disabled-bg-color);\n",
              "    fill: var(--disabled-fill-color);\n",
              "    box-shadow: none;\n",
              "  }\n",
              "\n",
              "  .colab-df-spinner {\n",
              "    border: 2px solid var(--fill-color);\n",
              "    border-color: transparent;\n",
              "    border-bottom-color: var(--fill-color);\n",
              "    animation:\n",
              "      spin 1s steps(1) infinite;\n",
              "  }\n",
              "\n",
              "  @keyframes spin {\n",
              "    0% {\n",
              "      border-color: transparent;\n",
              "      border-bottom-color: var(--fill-color);\n",
              "      border-left-color: var(--fill-color);\n",
              "    }\n",
              "    20% {\n",
              "      border-color: transparent;\n",
              "      border-left-color: var(--fill-color);\n",
              "      border-top-color: var(--fill-color);\n",
              "    }\n",
              "    30% {\n",
              "      border-color: transparent;\n",
              "      border-left-color: var(--fill-color);\n",
              "      border-top-color: var(--fill-color);\n",
              "      border-right-color: var(--fill-color);\n",
              "    }\n",
              "    40% {\n",
              "      border-color: transparent;\n",
              "      border-right-color: var(--fill-color);\n",
              "      border-top-color: var(--fill-color);\n",
              "    }\n",
              "    60% {\n",
              "      border-color: transparent;\n",
              "      border-right-color: var(--fill-color);\n",
              "    }\n",
              "    80% {\n",
              "      border-color: transparent;\n",
              "      border-right-color: var(--fill-color);\n",
              "      border-bottom-color: var(--fill-color);\n",
              "    }\n",
              "    90% {\n",
              "      border-color: transparent;\n",
              "      border-bottom-color: var(--fill-color);\n",
              "    }\n",
              "  }\n",
              "</style>\n",
              "\n",
              "  <script>\n",
              "    async function quickchart(key) {\n",
              "      const quickchartButtonEl =\n",
              "        document.querySelector('#' + key + ' button');\n",
              "      quickchartButtonEl.disabled = true;  // To prevent multiple clicks.\n",
              "      quickchartButtonEl.classList.add('colab-df-spinner');\n",
              "      try {\n",
              "        const charts = await google.colab.kernel.invokeFunction(\n",
              "            'suggestCharts', [key], {});\n",
              "      } catch (error) {\n",
              "        console.error('Error during call to suggestCharts:', error);\n",
              "      }\n",
              "      quickchartButtonEl.classList.remove('colab-df-spinner');\n",
              "      quickchartButtonEl.classList.add('colab-df-quickchart-complete');\n",
              "    }\n",
              "    (() => {\n",
              "      let quickchartButtonEl =\n",
              "        document.querySelector('#df-0b01c86e-176a-4685-b9d7-9bed6834c95a button');\n",
              "      quickchartButtonEl.style.display =\n",
              "        google.colab.kernel.accessAllowed ? 'block' : 'none';\n",
              "    })();\n",
              "  </script>\n",
              "</div>\n",
              "    </div>\n",
              "  </div>\n"
            ],
            "application/vnd.google.colaboratory.intrinsic+json": {
              "type": "dataframe",
              "summary": "{\n  \"name\": \"train_data\",\n  \"rows\": 8,\n  \"fields\": [\n    {\n      \"column\": \"year\",\n      \"properties\": {\n        \"dtype\": \"number\",\n        \"std\": 7737.934389032701,\n        \"min\": 0.8473705735442522,\n        \"max\": 23524.0,\n        \"num_unique_values\": 6,\n        \"samples\": [\n          23524.0,\n          2016.9759394660773,\n          2018.0\n        ],\n        \"semantic_type\": \"\",\n        \"description\": \"\"\n      }\n    },\n    {\n      \"column\": \"household_size\",\n      \"properties\": {\n        \"dtype\": \"number\",\n        \"std\": 8315.07191837213,\n        \"min\": 1.0,\n        \"max\": 23524.0,\n        \"num_unique_values\": 8,\n        \"samples\": [\n          3.797483421186873,\n          3.0,\n          23524.0\n        ],\n        \"semantic_type\": \"\",\n        \"description\": \"\"\n      }\n    },\n    {\n      \"column\": \"age_of_respondent\",\n      \"properties\": {\n        \"dtype\": \"number\",\n        \"std\": 8302.82413901166,\n        \"min\": 16.0,\n        \"max\": 23524.0,\n        \"num_unique_values\": 8,\n        \"samples\": [\n          38.80522020064615,\n          35.0,\n          23524.0\n        ],\n        \"semantic_type\": \"\",\n        \"description\": \"\"\n      }\n    }\n  ]\n}"
            }
          },
          "metadata": {},
          "execution_count": 6
        }
      ],
      "source": [
        "# looking into the statistical summary\n",
        "train_data.describe()"
      ]
    },
    {
      "cell_type": "code",
      "execution_count": null,
      "metadata": {
        "id": "R7GevZMRnQFn",
        "colab": {
          "base_uri": "https://localhost:8080/"
        },
        "outputId": "028190a5-177d-4c48-e07f-7ebfcdc25f16"
      },
      "outputs": [
        {
          "output_type": "execute_result",
          "data": {
            "text/plain": [
              "country                   0\n",
              "year                      0\n",
              "uniqueid                  0\n",
              "bank_account              0\n",
              "location_type             0\n",
              "cellphone_access          0\n",
              "household_size            0\n",
              "age_of_respondent         0\n",
              "gender_of_respondent      0\n",
              "relationship_with_head    0\n",
              "marital_status            0\n",
              "education_level           0\n",
              "job_type                  0\n",
              "dtype: int64"
            ]
          },
          "metadata": {},
          "execution_count": 7
        }
      ],
      "source": [
        "#checking for missing values\n",
        "train_data.isnull().sum()\n"
      ]
    },
    {
      "cell_type": "code",
      "execution_count": null,
      "metadata": {
        "id": "kEhky3mLDn6b",
        "colab": {
          "base_uri": "https://localhost:8080/"
        },
        "outputId": "8f3fe3d1-8fe8-459e-a716-e7161a9f0723"
      },
      "outputs": [
        {
          "output_type": "execute_result",
          "data": {
            "text/plain": [
              "country                   0\n",
              "year                      0\n",
              "uniqueid                  0\n",
              "location_type             0\n",
              "cellphone_access          0\n",
              "household_size            0\n",
              "age_of_respondent         0\n",
              "gender_of_respondent      0\n",
              "relationship_with_head    0\n",
              "marital_status            0\n",
              "education_level           0\n",
              "job_type                  0\n",
              "dtype: int64"
            ]
          },
          "metadata": {},
          "execution_count": 8
        }
      ],
      "source": [
        "#checking for missing values in the training data\n",
        "test_data.isnull().sum()\n"
      ]
    },
    {
      "cell_type": "code",
      "execution_count": null,
      "metadata": {
        "id": "sX6yrkS56TXe"
      },
      "outputs": [],
      "source": [
        "# Drop the 'uniqueid' column as it is not relevant for modeling\n",
        "train_data = train_data.drop('uniqueid', axis=1)\n",
        "test_data = test_data.drop('uniqueid', axis=1)"
      ]
    },
    {
      "cell_type": "markdown",
      "source": [
        "### Feature Engineering\n",
        "> Before proceeding to train the model we will perform feature engineering on the dataset.\n",
        "1. We will create new columns from existing one e.g we willl create the column 'age_group' through the process of binning 'age_of_respondent'\n",
        "2. We will encode categorical columns\n",
        "3. we will standardise the data"
      ],
      "metadata": {
        "id": "bgznifvI0s8Z"
      }
    },
    {
      "cell_type": "code",
      "execution_count": null,
      "metadata": {
        "id": "t5CgS32VDyOk"
      },
      "outputs": [],
      "source": [
        "#converting the target variable to numeric (0 for 'No', 1 for 'Yes')\n",
        "label_encoder = LabelEncoder()\n",
        "train_data['bank_account'] = label_encoder.fit_transform(train_data['bank_account'])\n"
      ]
    },
    {
      "cell_type": "code",
      "execution_count": null,
      "metadata": {
        "id": "Pf6704PyEH-8"
      },
      "outputs": [],
      "source": [
        "# creating new columns by binning the age of the respondents\n",
        "train_data['age_group'] = pd.cut(train_data['age_of_respondent'], bins=[0, 18, 35, 50, 100], labels=['0-18', '19-35', '36-50', '51+'])\n",
        "test_data['age_group'] = pd.cut(test_data['age_of_respondent'], bins=[0, 18, 35, 50, 100], labels=['0-18', '19-35', '36-50', '51+'])\n"
      ]
    },
    {
      "cell_type": "code",
      "source": [
        "train_data.info()"
      ],
      "metadata": {
        "id": "OdxXJI0YbFvD",
        "colab": {
          "base_uri": "https://localhost:8080/"
        },
        "outputId": "e1fa97d4-44e8-4d0d-c620-ee8eba2b2a27"
      },
      "execution_count": null,
      "outputs": [
        {
          "output_type": "stream",
          "name": "stdout",
          "text": [
            "<class 'pandas.core.frame.DataFrame'>\n",
            "RangeIndex: 23524 entries, 0 to 23523\n",
            "Data columns (total 13 columns):\n",
            " #   Column                  Non-Null Count  Dtype   \n",
            "---  ------                  --------------  -----   \n",
            " 0   country                 23524 non-null  object  \n",
            " 1   year                    23524 non-null  int64   \n",
            " 2   bank_account            23524 non-null  int64   \n",
            " 3   location_type           23524 non-null  object  \n",
            " 4   cellphone_access        23524 non-null  object  \n",
            " 5   household_size          23524 non-null  int64   \n",
            " 6   age_of_respondent       23524 non-null  int64   \n",
            " 7   gender_of_respondent    23524 non-null  object  \n",
            " 8   relationship_with_head  23524 non-null  object  \n",
            " 9   marital_status          23524 non-null  object  \n",
            " 10  education_level         23524 non-null  object  \n",
            " 11  job_type                23524 non-null  object  \n",
            " 12  age_group               23524 non-null  category\n",
            "dtypes: category(1), int64(4), object(8)\n",
            "memory usage: 2.2+ MB\n"
          ]
        }
      ]
    },
    {
      "cell_type": "code",
      "execution_count": null,
      "metadata": {
        "id": "B_Wiaj4mEPm1"
      },
      "outputs": [],
      "source": [
        "# Drop the original 'age_of_respondent' column since we have 'age_group'\n",
        "train_data = train_data.drop(['age_of_respondent'], axis=1)\n",
        "test_data = test_data.drop(['age_of_respondent'], axis=1)"
      ]
    },
    {
      "cell_type": "code",
      "source": [
        "# creating a list of columns with object data type\n",
        "object_columns = train_data.select_dtypes(include=['object', 'category']).columns.tolist()\n"
      ],
      "metadata": {
        "id": "-cddNqj10QnY"
      },
      "execution_count": null,
      "outputs": []
    },
    {
      "cell_type": "code",
      "source": [
        "# performing one-hot-encoding\n",
        "def encoding_data(data, object_columns):\n",
        "  encoder = OneHotEncoder(sparse=False, drop='first')\n",
        "  encoded_data = encoder.fit_transform(data[object_columns])\n",
        "\n",
        "  #converting the encoded data into a DataFrame\n",
        "  encoded_df = pd.DataFrame(encoded_data, columns=encoder.get_feature_names_out(object_columns))\n",
        "  encoded_df = pd.concat([data.drop(columns=object_columns), encoded_df], axis=1)\n",
        "  return encoded_df\n",
        "\n",
        "# one-hot-encoding the train and test data\n",
        "train_data_encoded = encoding_data(train_data, object_columns)\n",
        "test_data_encoded = encoding_data(test_data, object_columns)"
      ],
      "metadata": {
        "id": "X1Za8S150f5i",
        "colab": {
          "base_uri": "https://localhost:8080/"
        },
        "outputId": "6b8d0b17-0851-444b-a075-c51bdd1709f7"
      },
      "execution_count": null,
      "outputs": [
        {
          "output_type": "stream",
          "name": "stderr",
          "text": [
            "/usr/local/lib/python3.10/dist-packages/sklearn/preprocessing/_encoders.py:868: FutureWarning: `sparse` was renamed to `sparse_output` in version 1.2 and will be removed in 1.4. `sparse_output` is ignored unless you leave `sparse` to its default value.\n",
            "  warnings.warn(\n",
            "/usr/local/lib/python3.10/dist-packages/sklearn/preprocessing/_encoders.py:868: FutureWarning: `sparse` was renamed to `sparse_output` in version 1.2 and will be removed in 1.4. `sparse_output` is ignored unless you leave `sparse` to its default value.\n",
            "  warnings.warn(\n"
          ]
        }
      ]
    },
    {
      "cell_type": "code",
      "source": [
        "train_data_encoded.info()"
      ],
      "metadata": {
        "id": "uJ3KE4aSr8Ej",
        "colab": {
          "base_uri": "https://localhost:8080/"
        },
        "outputId": "7574aa51-1629-4221-fc94-94a94e6e6de9"
      },
      "execution_count": null,
      "outputs": [
        {
          "output_type": "stream",
          "name": "stdout",
          "text": [
            "<class 'pandas.core.frame.DataFrame'>\n",
            "RangeIndex: 23524 entries, 0 to 23523\n",
            "Data columns (total 35 columns):\n",
            " #   Column                                           Non-Null Count  Dtype  \n",
            "---  ------                                           --------------  -----  \n",
            " 0   year                                             23524 non-null  int64  \n",
            " 1   bank_account                                     23524 non-null  int64  \n",
            " 2   household_size                                   23524 non-null  int64  \n",
            " 3   country_Rwanda                                   23524 non-null  float64\n",
            " 4   country_Tanzania                                 23524 non-null  float64\n",
            " 5   country_Uganda                                   23524 non-null  float64\n",
            " 6   location_type_Urban                              23524 non-null  float64\n",
            " 7   cellphone_access_Yes                             23524 non-null  float64\n",
            " 8   gender_of_respondent_Male                        23524 non-null  float64\n",
            " 9   relationship_with_head_Head of Household         23524 non-null  float64\n",
            " 10  relationship_with_head_Other non-relatives       23524 non-null  float64\n",
            " 11  relationship_with_head_Other relative            23524 non-null  float64\n",
            " 12  relationship_with_head_Parent                    23524 non-null  float64\n",
            " 13  relationship_with_head_Spouse                    23524 non-null  float64\n",
            " 14  marital_status_Dont know                         23524 non-null  float64\n",
            " 15  marital_status_Married/Living together           23524 non-null  float64\n",
            " 16  marital_status_Single/Never Married              23524 non-null  float64\n",
            " 17  marital_status_Widowed                           23524 non-null  float64\n",
            " 18  education_level_Other/Dont know/RTA              23524 non-null  float64\n",
            " 19  education_level_Primary education                23524 non-null  float64\n",
            " 20  education_level_Secondary education              23524 non-null  float64\n",
            " 21  education_level_Tertiary education               23524 non-null  float64\n",
            " 22  education_level_Vocational/Specialised training  23524 non-null  float64\n",
            " 23  job_type_Farming and Fishing                     23524 non-null  float64\n",
            " 24  job_type_Formally employed Government            23524 non-null  float64\n",
            " 25  job_type_Formally employed Private               23524 non-null  float64\n",
            " 26  job_type_Government Dependent                    23524 non-null  float64\n",
            " 27  job_type_Informally employed                     23524 non-null  float64\n",
            " 28  job_type_No Income                               23524 non-null  float64\n",
            " 29  job_type_Other Income                            23524 non-null  float64\n",
            " 30  job_type_Remittance Dependent                    23524 non-null  float64\n",
            " 31  job_type_Self employed                           23524 non-null  float64\n",
            " 32  age_group_19-35                                  23524 non-null  float64\n",
            " 33  age_group_36-50                                  23524 non-null  float64\n",
            " 34  age_group_51+                                    23524 non-null  float64\n",
            "dtypes: float64(32), int64(3)\n",
            "memory usage: 6.3 MB\n"
          ]
        }
      ]
    },
    {
      "cell_type": "code",
      "execution_count": null,
      "metadata": {
        "id": "YmWznHoLEYZF"
      },
      "outputs": [],
      "source": [
        "#splitting the data\n",
        "X = train_data_encoded.drop('bank_account', axis=1)\n",
        "y = train_data_encoded['bank_account']\n",
        "X_train, X_val, y_train, y_val = train_test_split(X, y, test_size=0.2, random_state=42)"
      ]
    },
    {
      "cell_type": "code",
      "execution_count": null,
      "metadata": {
        "id": "0ZkQazZUD1MD"
      },
      "outputs": [],
      "source": [
        "#standardizing the features\n",
        "scaler = StandardScaler()\n",
        "X_train_scaled = scaler.fit_transform(X_train)\n",
        "X_val_scaled = scaler.transform(X_val)"
      ]
    },
    {
      "cell_type": "markdown",
      "source": [
        "#### Model Training"
      ],
      "metadata": {
        "id": "mpyBzlsPBphU"
      }
    },
    {
      "cell_type": "code",
      "execution_count": null,
      "metadata": {
        "id": "Z85NzoUHK2V5"
      },
      "outputs": [],
      "source": [
        "import pandas as pd\n",
        "from sklearn.model_selection import train_test_split\n",
        "from sklearn.ensemble import RandomForestClassifier, GradientBoostingClassifier, VotingClassifier\n",
        "from xgboost import XGBClassifier\n",
        "from sklearn.metrics import accuracy_score, classification_report, confusion_matrix\n",
        "import seaborn as sns\n",
        "import matplotlib.pyplot as plt"
      ]
    },
    {
      "cell_type": "code",
      "execution_count": null,
      "metadata": {
        "id": "hnWYhSQyKnBj"
      },
      "outputs": [],
      "source": [
        "# Train individual models\n",
        "random_forest_model = RandomForestClassifier(random_state=42)\n",
        "gradient_boosting_model = GradientBoostingClassifier(random_state=42)\n",
        "xgboost_model = XGBClassifier(random_state=42)"
      ]
    },
    {
      "cell_type": "code",
      "execution_count": null,
      "metadata": {
        "id": "lgk_6UuMKm4H"
      },
      "outputs": [],
      "source": [
        "random_forest_model.fit(X_train_scaled, y_train)\n",
        "gradient_boosting_model.fit(X_train_scaled, y_train)\n",
        "xgboost_model.fit(X_train_scaled, y_train)\n",
        "\n",
        "#combining predictions using a VotingClassifier\n",
        "ensemble_model = VotingClassifier(\n",
        "    estimators=[\n",
        "        ('Random Forest', random_forest_model),\n",
        "        ('Gradient Boosting', gradient_boosting_model),\n",
        "        ('XGBoost', xgboost_model)\n",
        "    ],\n",
        "    voting='hard'\n",
        ")"
      ]
    },
    {
      "cell_type": "code",
      "execution_count": null,
      "metadata": {
        "id": "k6mJ3WvtLMB7",
        "colab": {
          "base_uri": "https://localhost:8080/"
        },
        "outputId": "b853010c-fc7e-4a54-ebef-506a4223246e"
      },
      "outputs": [
        {
          "output_type": "stream",
          "name": "stdout",
          "text": [
            "Accuracy on the validation set with Ensemble Model: 0.8886291179596174\n"
          ]
        }
      ],
      "source": [
        "#training the ensemble model\n",
        "ensemble_model.fit(X_train_scaled, y_train)\n",
        "\n",
        "#evaluating the validation set\n",
        "ensemble_predictions = ensemble_model.predict(X_val_scaled)\n",
        "ensemble_accuracy = accuracy_score(y_val, ensemble_predictions)\n",
        "\n",
        "print(\"Accuracy on the validation set with Ensemble Model:\", ensemble_accuracy)\n"
      ]
    },
    {
      "cell_type": "code",
      "execution_count": null,
      "metadata": {
        "id": "v1BvHyQWLQMa"
      },
      "outputs": [],
      "source": [
        "# each models' performance\n",
        "models = {\n",
        "    'Random Forest': random_forest_model,\n",
        "    'Gradient Boosting': gradient_boosting_model,\n",
        "    'XGBoost': xgboost_model\n",
        "}"
      ]
    },
    {
      "cell_type": "code",
      "execution_count": null,
      "metadata": {
        "id": "6obvcF_0LUrY",
        "colab": {
          "base_uri": "https://localhost:8080/",
          "height": 1000
        },
        "outputId": "809e4b4a-6d11-437b-b3c5-28aa301769cc"
      },
      "outputs": [
        {
          "output_type": "stream",
          "name": "stdout",
          "text": [
            "\n",
            "Accuracy for Random Forest: 0.8716\n",
            "Classification Report:\n",
            "               precision    recall  f1-score   support\n",
            "\n",
            "           0       0.91      0.95      0.93      4063\n",
            "           1       0.54      0.39      0.45       642\n",
            "\n",
            "    accuracy                           0.87      4705\n",
            "   macro avg       0.72      0.67      0.69      4705\n",
            "weighted avg       0.86      0.87      0.86      4705\n",
            "\n"
          ]
        },
        {
          "output_type": "display_data",
          "data": {
            "text/plain": [
              "<Figure size 640x480 with 2 Axes>"
            ],
            "image/png": "[encoded data removed]"
          },
          "metadata": {}
        },
        {
          "output_type": "stream",
          "name": "stdout",
          "text": [
            "\n",
            "Accuracy for Gradient Boosting: 0.8905\n",
            "Classification Report:\n",
            "               precision    recall  f1-score   support\n",
            "\n",
            "           0       0.90      0.98      0.94      4063\n",
            "           1       0.71      0.33      0.46       642\n",
            "\n",
            "    accuracy                           0.89      4705\n",
            "   macro avg       0.81      0.66      0.70      4705\n",
            "weighted avg       0.88      0.89      0.87      4705\n",
            "\n"
          ]
        },
        {
          "output_type": "display_data",
          "data": {
            "text/plain": [
              "<Figure size 640x480 with 2 Axes>"
            ],
            "image/png": "[encoded data removed]"
          },
          "metadata": {}
        },
        {
          "output_type": "stream",
          "name": "stdout",
          "text": [
            "\n",
            "Accuracy for XGBoost: 0.8886\n",
            "Classification Report:\n",
            "               precision    recall  f1-score   support\n",
            "\n",
            "           0       0.91      0.97      0.94      4063\n",
            "           1       0.65      0.40      0.49       642\n",
            "\n",
            "    accuracy                           0.89      4705\n",
            "   macro avg       0.78      0.68      0.72      4705\n",
            "weighted avg       0.87      0.89      0.88      4705\n",
            "\n"
          ]
        },
        {
          "output_type": "display_data",
          "data": {
            "text/plain": [
              "<Figure size 640x480 with 2 Axes>"
            ],
            "image/png": "[encoded data removed]"
          },
          "metadata": {}
        }
      ],
      "source": [
        "for model_name, model in models.items():\n",
        "    predictions = model.predict(X_val_scaled)\n",
        "    accuracy = accuracy_score(y_val, predictions)\n",
        "\n",
        "    print(f\"\\nAccuracy for {model_name}: {accuracy:.4f}\")\n",
        "    print(\"Classification Report:\\n\", classification_report(y_val, predictions))\n",
        "\n",
        "    #confusion Matrix\n",
        "    conf_matrix = confusion_matrix(y_val, predictions)\n",
        "    sns.heatmap(conf_matrix, annot=True, fmt='d', cmap='Blues', xticklabels=['No', 'Yes'], yticklabels=['No', 'Yes'])\n",
        "    plt.xlabel('Predicted')\n",
        "    plt.ylabel('Actual')\n",
        "    plt.title(f'Confusion Matrix for {model_name}')\n",
        "    plt.show()"
      ]
    },
    {
      "cell_type": "code",
      "execution_count": null,
      "metadata": {
        "id": "XKn01_MALpy-",
        "colab": {
          "base_uri": "https://localhost:8080/"
        },
        "outputId": "11a60fda-79bc-4d4a-fe04-13dce8ffa271"
      },
      "outputs": [
        {
          "output_type": "stream",
          "name": "stdout",
          "text": [
            "Accuracy on the validation set with Ensemble Model: 0.8886291179596174\n"
          ]
        }
      ],
      "source": [
        "#evaluating the ensemble model on the validation set\n",
        "ensemble_predictions = ensemble_model.predict(X_val_scaled)\n",
        "ensemble_accuracy = accuracy_score(y_val, ensemble_predictions)\n",
        "\n",
        "print(\"Accuracy on the validation set with Ensemble Model:\", ensemble_accuracy)\n"
      ]
    },
    {
      "cell_type": "code",
      "execution_count": null,
      "metadata": {
        "id": "YliLgd5fL8Mz",
        "colab": {
          "base_uri": "https://localhost:8080/"
        },
        "outputId": "74da4f78-6b81-4600-faad-fa00a578808b"
      },
      "outputs": [
        {
          "output_type": "stream",
          "name": "stdout",
          "text": [
            "Best Hyperparameters for Random Forest: {'bootstrap': True, 'max_depth': None, 'min_samples_leaf': 4, 'min_samples_split': 10, 'n_estimators': 200}\n",
            "Accuracy on the validation set with the best Random Forest model: 0.8890541976620616\n"
          ]
        }
      ],
      "source": [
        "from sklearn.model_selection import GridSearchCV\n",
        "\n",
        "# Hyperparameter Tuning\n",
        "param_grid_rf = {\n",
        "    'n_estimators': [50, 100, 200],\n",
        "    'max_depth': [None, 10, 20],\n",
        "    'min_samples_split': [2, 5, 10],\n",
        "    'min_samples_leaf': [1, 2, 4],\n",
        "    'bootstrap': [True, False]\n",
        "}\n",
        "\n",
        "grid_search_rf = GridSearchCV(RandomForestClassifier(random_state=42), param_grid_rf, cv=5, scoring='accuracy')\n",
        "grid_search_rf.fit(X_train_scaled, y_train)\n",
        "\n",
        "# Get the best parameters\n",
        "best_params_rf = grid_search_rf.best_params_\n",
        "print(\"Best Hyperparameters for Random Forest:\", best_params_rf)\n",
        "\n",
        "# Train the Random Forest model with the best parameters\n",
        "best_rf_model = RandomForestClassifier(random_state=42, **best_params_rf)\n",
        "best_rf_model.fit(X_train_scaled, y_train)\n",
        "\n",
        "# Evaluate on the validation set\n",
        "best_rf_predictions = best_rf_model.predict(X_val_scaled)\n",
        "best_rf_accuracy = accuracy_score(y_val, best_rf_predictions)\n",
        "print(\"Accuracy on the validation set with the best Random Forest model:\", best_rf_accuracy)\n"
      ]
    },
    {
      "cell_type": "code",
      "execution_count": null,
      "metadata": {
        "id": "ZR7eOhIBGdwb"
      },
      "outputs": [],
      "source": [
        "from sklearn.ensemble import VotingClassifier\n",
        "from sklearn.metrics import accuracy_score"
      ]
    },
    {
      "cell_type": "code",
      "execution_count": null,
      "metadata": {
        "id": "8wnu581G_yyd",
        "colab": {
          "base_uri": "https://localhost:8080/",
          "height": 680
        },
        "outputId": "5a31a800-822c-4020-a520-e67d580ea1e7"
      },
      "outputs": [
        {
          "output_type": "stream",
          "name": "stdout",
          "text": [
            "\n",
            "Accuracy for XGBoost: 0.8895\n",
            "Classification Report:\n",
            "               precision    recall  f1-score   support\n",
            "\n",
            "           0       0.90      0.98      0.94      4063\n",
            "           1       0.69      0.35      0.46       642\n",
            "\n",
            "    accuracy                           0.89      4705\n",
            "   macro avg       0.80      0.66      0.70      4705\n",
            "weighted avg       0.87      0.89      0.87      4705\n",
            "\n"
          ]
        },
        {
          "output_type": "display_data",
          "data": {
            "text/plain": [
              "<Figure size 640x480 with 2 Axes>"
            ],
            "image/png": "[encoded data removed]"
          },
          "metadata": {}
        }
      ],
      "source": [
        "#Training a  GradientBoostingClassifier model\n",
        "gradient_boosting_model = GradientBoostingClassifier(n_estimators=200, min_samples_split=10, random_state=42)\n",
        "gradient_boosting_model.fit(X_train_scaled, y_train)\n",
        "predictions = gradient_boosting_model.predict(X_val_scaled)\n",
        "accuracy = accuracy_score(y_val, predictions)\n",
        "\n",
        "print(f\"\\nAccuracy for {model_name}: {accuracy:.4f}\")\n",
        "print(\"Classification Report:\\n\", classification_report(y_val, predictions))\n",
        "\n",
        "#Confusion Matrix\n",
        "conf_matrix = confusion_matrix(y_val, predictions)\n",
        "sns.heatmap(conf_matrix, annot=True, fmt='d', cmap='Blues', xticklabels=['No', 'Yes'], yticklabels=['No', 'Yes'])\n",
        "plt.xlabel('Predicted')\n",
        "plt.ylabel('Actual')\n",
        "plt.title(f'Confusion Matrix for {model_name}')\n",
        "plt.show()"
      ]
    },
    {
      "cell_type": "code",
      "source": [
        "print(conf_matrix)"
      ],
      "metadata": {
        "colab": {
          "base_uri": "https://localhost:8080/"
        },
        "id": "KuM8JzTf2fOt",
        "outputId": "e6829a79-1780-44ab-dbf8-e4f0970f6817"
      },
      "execution_count": null,
      "outputs": [
        {
          "output_type": "stream",
          "name": "stdout",
          "text": [
            "[[3963  100]\n",
            " [ 420  222]]\n"
          ]
        }
      ]
    },
    {
      "cell_type": "code",
      "execution_count": null,
      "metadata": {
        "id": "GpNlWc2KA0KH",
        "colab": {
          "base_uri": "https://localhost:8080/",
          "height": 680
        },
        "outputId": "9be27d0c-dbd5-4c20-a2b9-6586bd86760a"
      },
      "outputs": [
        {
          "output_type": "stream",
          "name": "stdout",
          "text": [
            "Best parameters: {'learning_rate': 0.2, 'max_depth': 5, 'n_estimators': 15}\n",
            "Validation accuracy: 0.8903\n",
            "Classification Report:\n",
            "               precision    recall  f1-score   support\n",
            "\n",
            "           0       0.90      0.98      0.94      4063\n",
            "           1       0.72      0.32      0.45       642\n",
            "\n",
            "    accuracy                           0.89      4705\n",
            "   macro avg       0.81      0.65      0.69      4705\n",
            "weighted avg       0.88      0.89      0.87      4705\n",
            "\n"
          ]
        },
        {
          "output_type": "display_data",
          "data": {
            "text/plain": [
              "<Figure size 640x480 with 2 Axes>"
            ],
            "image/png": "[encoded data removed]"
          },
          "metadata": {}
        }
      ],
      "source": [
        "from sklearn.metrics import mean_absolute_error, mean_squared_error\n",
        "#The parameter grid to search\n",
        "param_grid = {\n",
        "    'n_estimators': [10, 15, 20],\n",
        "    'learning_rate': [0.05, 0.1, 0.2],\n",
        "    'max_depth': [3, 5, 7]\n",
        "}\n",
        "\n",
        "#Initializing the GradientBoostingClassifier\n",
        "gradient_boosting_model = GradientBoostingClassifier(random_state=42)\n",
        "\n",
        "#Initializing GridSearchCV\n",
        "grid_search = GridSearchCV(estimator=gradient_boosting_model, param_grid=param_grid, cv=5, scoring='accuracy', n_jobs=2)\n",
        "\n",
        "#Performing GridSearchCV\n",
        "grid_search.fit(X_train_scaled, y_train)\n",
        "\n",
        "#getting the best parameters and the best estimator\n",
        "best_params = grid_search.best_params_\n",
        "best_estimator = grid_search.best_estimator_\n",
        "\n",
        "#Using the best estimator to make predictions\n",
        "predictions = best_estimator.predict(X_val_scaled)\n",
        "\n",
        "#evaluating the model\n",
        "accuracy = accuracy_score(y_val, predictions)\n",
        "print(f\"Best parameters: {best_params}\")\n",
        "print(f\"Validation accuracy: {accuracy:.4f}\")\n",
        "print(\"Classification Report:\\n\", classification_report(y_val, predictions))\n",
        "\n",
        "#confusion Matrix\n",
        "conf_matrix = confusion_matrix(y_val, predictions)\n",
        "sns.heatmap(conf_matrix, annot=True, fmt='d', cmap='Blues', xticklabels=['No', 'Yes'], yticklabels=['No', 'Yes'])\n",
        "plt.xlabel('Predicted')\n",
        "plt.ylabel('Actual')\n",
        "plt.title('Confusion Matrix')\n",
        "plt.show()\n",
        "\n",
        "\n"
      ]
    },
    {
      "cell_type": "code",
      "source": [
        "print(conf_matrix)"
      ],
      "metadata": {
        "colab": {
          "base_uri": "https://localhost:8080/"
        },
        "id": "sWlVQA7d184g",
        "outputId": "b71d5ca8-cb43-4913-d3de-624d8afcf5db"
      },
      "execution_count": null,
      "outputs": [
        {
          "output_type": "stream",
          "name": "stdout",
          "text": [
            "[[3982   81]\n",
            " [ 435  207]]\n"
          ]
        }
      ]
    },
    {
      "cell_type": "markdown",
      "source": [
        "Insights from the confusion matrix\n",
        "\n",
        "> GradientBoostingClassifier confusion matrix[[3982   81]\n",
        " [ 435  207]]\n",
        "\n",
        ">XGBoostClassifier confusion matrix [[3963  100]\n",
        " [ 420  222]]\n",
        "\n",
        "> The classsifiers XGBoostClassifier and GradientBoostingClassifier achieved relatively similar True Negative (TN) values, indicating a high number of correct predictions for individuals without a bank account. However, the GBC achieved a lower False Positive (FP) rate compared to the XGBoostClassifier, which means it made fewer incorrect predictions of individuals having a bank account when they do not.\n",
        "\n",
        "> Considering the implications of false positives in this context missing the opportunity to ensure inclusivity of individuals who do not have a bank account—the GradientBoostingClassifier's lower false positive rate suggests that it is better suited for improving the efficiency of resource allocation in ensuring individuals who do not have access to bank accounts are reached out  to and the bank tailoring solutions best fit for them. Therefore, the Gradient Boosting Classifier appears to be the most suitable choice for predicting whether someone has a bank account or not.\n",
        "\n",
        "> In summary, the Gradient Boosting Classifier offers higher precision, making it the most ideal choice for this classification task based on the provided confusion matrices."
      ],
      "metadata": {
        "id": "gKVYuf_duHsZ"
      }
    },
    {
      "cell_type": "code",
      "source": [
        "# Evaluating the model with MAE and RMSE\n",
        "mae = mean_absolute_error(y_val, predictions)\n",
        "rmse = mean_squared_error(y_val, predictions, squared=False)  # Computing RMSE by setting squared=False\n",
        "\n",
        "print(f\"Validation MAE: {mae:.4f}\")\n",
        "print(f\"Validation RMSE: {rmse:.4f}\")"
      ],
      "metadata": {
        "colab": {
          "base_uri": "https://localhost:8080/"
        },
        "id": "RDsjxN23w_TU",
        "outputId": "9a5d280c-099b-48d1-9b49-a86d689762f9"
      },
      "execution_count": null,
      "outputs": [
        {
          "output_type": "stream",
          "name": "stdout",
          "text": [
            "Validation MAE: 0.1097\n",
            "Validation RMSE: 0.3312\n"
          ]
        }
      ]
    },
    {
      "cell_type": "markdown",
      "source": [
        "### Validation MAE: 0.1097\n",
        "\n",
        "This means, on average, the absolute difference between the actual and predicted values is approximately 0.1097 units. Lower MAE values indicate better model performance, hence our model is performing well.\n",
        "\n",
        "### Validation RMSE: 0.3312\n",
        "\n",
        "RMSE provides a measure of the spread of prediction errors. In this case, the RMSE is approximately 0.3312 units. Lower RMSE values indicate better fit to the data.\n",
        "\n",
        "In conclusion, these metrics suggest that our Gradient Boosting model is performing reasonably well in making predictions on the validation set."
      ],
      "metadata": {
        "id": "z8OFIkx1xmjy"
      }
    },
    {
      "cell_type": "markdown",
      "source": [
        "#### Conclusion\n",
        "> The model we are working with is gradient_boosting_model because it has the highest accuracy of 89% compared to the other models. Hence, it signifies its effectiveness in capturing the complexities of the underlying data and making accurate predictions."
      ],
      "metadata": {
        "id": "Qx63i7_plZBN"
      }
    }
  ],
  "metadata": {
    "colab": {
      "provenance": []
    },
    "kernelspec": {
      "display_name": "Python 3",
      "name": "python3"
    },
    "language_info": {
      "name": "python"
    }
  },
  "nbformat": 4,
  "nbformat_minor": 0
}