{
 "cells": [
  {
   "cell_type": "code",
   "execution_count": null,
   "metadata": {},
   "outputs": [],
   "source": [
    "def backward_pass(x, target, learnrate, hidden_layer_out, output_layer_out, weights_hidden_to_output):\n",
    "    \"\"\"\n",
    "    Make a backward pass through the network\n",
    "    \"\"\"\n",
    "    # Calculate output error\n",
    "    error = target - output_layer_out\n",
    "\n",
    "    # Calculate error term for output layer\n",
    "    output_error_term = error  *output_layer_out*  (1 - output_layer_out)\n",
    "\n",
    "    # Calculate error term for hidden layer\n",
    "    hidden_error_term = output_error_term  *weights_hidden_to_output*  \\\n",
    "                    hidden_layer_out * (1 - hidden_layer_out)\n",
    "\n",
    "    # Calculate change in weights for hidden layer to output layer\n",
    "    delta_w_h_o = learnrate  *output_error_term*  hidden_layer_out\n",
    "\n",
    "    # Calculate change in weights for input layer to hidden layer\n",
    "    delta_w_i_h = learnrate  *hidden_error_term*  x[:, None]\n",
    "\n",
    "    return delta_w_h_o, delta_w_i_h"
   ]
  },
  {
   "cell_type": "code",
   "execution_count": null,
   "metadata": {},
   "outputs": [],
   "source": []
  }
 ],
 "metadata": {
  "language_info": {
   "name": "python"
  }
 },
 "nbformat": 4,
 "nbformat_minor": 2
}
