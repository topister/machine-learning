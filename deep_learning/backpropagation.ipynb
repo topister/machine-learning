{
 "cells": [
  {
   "cell_type": "code",
   "execution_count": null,
   "metadata": {},
   "outputs": [],
   "source": [
    "def backward_pass(x, target, learnrate, hidden_layer_out, output_layer_out, weights_hidden_to_output):\n",
    "    \"\"\"\n",
    "    Make a backward pass through the network\n",
    "    \"\"\"\n",
    "    # Calculate output error\n",
    "    error = target - output_layer_out\n",
    "\n",
    "    # Calculate error term for output layer\n",
    "    output_error_term = error  *output_layer_out*  (1 - output_layer_out)\n",
    "\n",
    "    # Calculate error term for hidden layer\n",
    "    hidden_error_term = output_error_term  *weights_hidden_to_output*  \\\n",
    "                    hidden_layer_out * (1 - hidden_layer_out)\n",
    "\n",
    "    # Calculate change in weights for hidden layer to output layer\n",
    "    delta_w_h_o = learnrate  *output_error_term*  hidden_layer_out\n",
    "\n",
    "    # Calculate change in weights for input layer to hidden layer\n",
    "    delta_w_i_h = learnrate  *hidden_error_term*  x[:, None]\n",
    "\n",
    "    return delta_w_h_o, delta_w_i_h"
   ]
  },
  {
   "cell_type": "markdown",
   "metadata": {},
   "source": [
    "### Gradient descent with backpropagation"
   ]
  },
  {
   "cell_type": "code",
   "execution_count": null,
   "metadata": {},
   "outputs": [],
   "source": [
    "def update_weights(weights_input_to_hidden, weights_hidden_to_output, \n",
    "                 features, targets, learnrate):\n",
    "    \"\"\"\n",
    "    Complete a single epoch of gradient descent and return updated weights\n",
    "    \"\"\"\n",
    "    delta_w_i_h = np.zeros(weights_input_to_hidden.shape)\n",
    "    delta_w_h_o = np.zeros(weights_hidden_to_output.shape)\n",
    "\n",
    "    # Loop through all records, x is the input, y is the target\n",
    "    for x, y in zip(features.values, targets):\n",
    "        ## Forward pass ##\n",
    "\n",
    "        # Calculate the output using the forward_pass function.\n",
    "        hidden_layer_out, output_layer_out = forward_pass(x,\n",
    "            weights_input_to_hidden, weights_hidden_to_output)\n",
    "\n",
    "        ## Backward pass ##\n",
    "\n",
    "        # Calculate the change in weights using the backward_pass\n",
    "        # function.\n",
    "        delta_w_h_o_tmp, delta_w_i_h_tmp = backward_pass(x, y, learnrate,\n",
    "            hidden_layer_out, output_layer_out, weights_hidden_to_output)\n",
    "        delta_w_h_o += delta_w_h_o_tmp\n",
    "        delta_w_i_h += delta_w_i_h_tmp\n",
    "\n",
    "    n_records = features.shape[0]\n",
    "    # Update weights  (don't forget division by n_records or number\n",
    "    # of samples).\n",
    "    weights_input_to_hidden += delta_w_i_h / n_records\n",
    "    weights_hidden_to_output += delta_w_h_o / n_records\n",
    "\n",
    "    return weights_input_to_hidden, weights_hidden_to_output"
   ]
  },
  {
   "cell_type": "code",
   "execution_count": null,
   "metadata": {},
   "outputs": [],
   "source": []
  }
 ],
 "metadata": {
  "language_info": {
   "name": "python"
  }
 },
 "nbformat": 4,
 "nbformat_minor": 2
}
