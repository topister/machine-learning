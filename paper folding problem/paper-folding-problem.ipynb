{
 "cells": [
  {
   "cell_type": "code",
   "execution_count": 2,
   "id": "e8b573a2-7f89-4d63-9e96-d0cfcd63a1ef",
   "metadata": {},
   "outputs": [
    {
     "name": "stdout",
     "output_type": "stream",
     "text": [
      "Thickness using exponentiation arithmetic operator: 703687441.77664 meters\n",
      "Thickness using for statement: 703687441.77664 meters\n"
     ]
    }
   ],
   "source": [
    "# Code to calculate the thickness when the paper is folded 43 times\n",
    "\n",
    "THICKNESS = 0.00008\n",
    "\n",
    "# Using exponentiation arithmetic operator\n",
    "folded_thickness_exp = THICKNESS * 2**43\n",
    "\n",
    "# Using for statement\n",
    "folded_thickness_for = THICKNESS\n",
    "for _ in range(43):\n",
    "    folded_thickness_for *= 2\n",
    "\n",
    "print(\"Thickness using exponentiation arithmetic operator: {} meters\".format(folded_thickness_exp))\n",
    "print(\"Thickness using for statement: {} meters\".format(folded_thickness_for))\n"
   ]
  },
  {
   "cell_type": "code",
   "execution_count": 3,
   "id": "2b900580-b725-4758-a1df-7d9c1311209a",
   "metadata": {},
   "outputs": [
    {
     "name": "stdout",
     "output_type": "stream",
     "text": [
      "Thickness: 70368.74 kilometers\n"
     ]
    }
   ],
   "source": [
    "# Convert meters to kilometers and display with two decimal places\n",
    "print(\"Thickness: {:.2f} kilometers\".format(folded_thickness / 10000))\n"
   ]
  },
  {
   "cell_type": "code",
   "execution_count": 4,
   "id": "22a0d029-384e-4328-8a68-b76aff7b64fb",
   "metadata": {},
   "outputs": [
    {
     "name": "stdout",
     "output_type": "stream",
     "text": [
      "Thickness: 70368.74 kilometers\n"
     ]
    }
   ],
   "source": [
    "# Using a for statement\n",
    "THICKNESS = 0.00008\n",
    "folded_thickness = THICKNESS\n",
    "\n",
    "for _ in range(43):\n",
    "    folded_thickness *= 2\n",
    "\n",
    "print(\"Thickness: {:.2f} kilometers\".format(folded_thickness / 10000))\n"
   ]
  },
  {
   "cell_type": "code",
   "execution_count": 6,
   "id": "8288bdf2-e286-4994-957c-65f6ee2c50f5",
   "metadata": {},
   "outputs": [
    {
     "name": "stdout",
     "output_type": "stream",
     "text": [
      "Exponentiation Arithmetic Operators Time: 0.0001666546s\n",
      "For Statement Time: 0.0001614094s\n"
     ]
    }
   ],
   "source": [
    "import time\n",
    "\n",
    "# Using exponentiation arithmetic operators\n",
    "start = time.time()\n",
    "folded_thickness_exp = THICKNESS * 2**43\n",
    "elapsed_time_exp = time.time() - start\n",
    "\n",
    "# Using for statement\n",
    "start = time.time()\n",
    "folded_thickness_for = THICKNESS\n",
    "for _ in range(43):\n",
    "    folded_thickness_for *= 2\n",
    "elapsed_time_for = time.time() - start\n",
    "\n",
    "print(\"Exponentiation Arithmetic Operators Time: {:.10f}s\".format(elapsed_time_exp))\n",
    "print(\"For Statement Time: {:.10f}s\".format(elapsed_time_for))\n"
   ]
  },
  {
   "cell_type": "code",
   "execution_count": 7,
   "id": "51f0d82b-d5b5-4fa4-af90-a3c02d91dabc",
   "metadata": {},
   "outputs": [
    {
     "name": "stdout",
     "output_type": "stream",
     "text": [
      "Length of the list: 44\n"
     ]
    }
   ],
   "source": [
    "# Saving to a list\n",
    "thickness_list = [THICKNESS]\n",
    "\n",
    "for _ in range(43):\n",
    "    folded_thickness *= 2\n",
    "    thickness_list.append(folded_thickness)\n",
    "\n",
    "print(\"Length of the list: {}\".format(len(thickness_list)))\n"
   ]
  },
  {
   "cell_type": "code",
   "execution_count": 8,
   "id": "6d6597e5-be6f-44b7-a27e-3b212b2cb617",
   "metadata": {},
   "outputs": [
    {
     "data": {
      "image/png": "[encoded data removed]",
      "text/plain": [
       "<Figure size 640x480 with 1 Axes>"
      ]
     },
     "metadata": {},
     "output_type": "display_data"
    }
   ],
   "source": [
    "import matplotlib.pyplot as plt\n",
    "%matplotlib inline\n",
    "\n",
    "plt.title(\"Thickness of Folded Paper\")\n",
    "plt.xlabel(\"Number of Folds\")\n",
    "plt.ylabel(\"Thickness (m)\")\n",
    "plt.plot(thickness_list)\n",
    "plt.show()\n"
   ]
  },
  {
   "cell_type": "code",
   "execution_count": null,
   "id": "a1c03f74-4325-43dc-9c7f-3b1613115951",
   "metadata": {},
   "outputs": [],
   "source": [
    "# Customizing the graph\n",
    "plt.title(\"Thickness of Folded Paper\")\n",
    "plt.xlabel(\"Number of Folds\")\n",
    "plt.ylabel(\"Thickness [m]\")\n",
    "plt.plot(thickness_list, color='green', linewidth=2, linestyle='dotted', marker='o', markersize=8)\n",
    "plt.tick_params(labelsize=12)\n",
    "plt.show()\n"
   ]
  }
 ],
 "metadata": {
  "kernelspec": {
   "display_name": "Python 3 (ipykernel)",
   "language": "python",
   "name": "python3"
  },
  "language_info": {
   "codemirror_mode": {
    "name": "ipython",
    "version": 3
   },
   "file_extension": ".py",
   "mimetype": "text/x-python",
   "name": "python",
   "nbconvert_exporter": "python",
   "pygments_lexer": "ipython3",
   "version": "3.10.12"
  }
 },
 "nbformat": 4,
 "nbformat_minor": 5
}
