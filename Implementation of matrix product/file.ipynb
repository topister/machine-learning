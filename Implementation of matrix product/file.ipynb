{
 "cells": [
  {
   "cell_type": "markdown",
   "metadata": {},
   "source": [
    "## Matrix product calculated manually"
   ]
  },
  {
   "cell_type": "markdown",
   "metadata": {},
   "source": [
    "The matrix product of matrices A and B can be calculated manually using the following steps:\n",
    "\n",
    "Multiply corresponding elements of the first row of matrix A with the first column of matrix B, and sum the products. Repeat this for all elements in the resulting matrix.\n"
   ]
  },
  {
   "cell_type": "markdown",
   "metadata": {},
   "source": [
    "Matrix A:\n",
    "\n",
    "-1  2  3\n",
    "\n",
    " 4 -5  6\n",
    "\n",
    " 7  8 -9\n",
    "\n",
    "\n",
    "Matrix B:\n",
    "\n",
    " 0  2  1\n",
    "\n",
    " 0  2 -8\n",
    "\n",
    " 2  9 -1\n",
    "\n",
    "Matrix Product C:\n",
    "\n",
    "(-1 * 0) + (2 * 0) + (3 *  2)    (-1 * 2) + (2 * 2) + (3 * 9)    (-1 * 1) + (2 * -8) + (3 * -1)\n",
    "\n",
    "(4 * 0) + (-5 * 0) + (6 * 2)   (4 * 2) + (-5 * 2) + (6 * 9)    (4 * 1) + (-5 * -8) + (6 * -1)\n",
    "\n",
    "(7 * 0) + (8 * 0) + (-9 * 2)   (7 * 2) + (8 * 2) + (-9 * 9)    (7 * 1) + (8 * -8) + (-9 * -1)\n"
   ]
  },
  {
   "cell_type": "markdown",
   "metadata": {},
   "source": [
    "## Calculation by NumPy function"
   ]
  },
  {
   "cell_type": "code",
   "execution_count": 2,
   "metadata": {},
   "outputs": [
    {
     "data": {
      "text/plain": [
       "array([[  6,  29, -20],\n",
       "       [ 12,  52,  38],\n",
       "       [-18, -51, -48]])"
      ]
     },
     "execution_count": 2,
     "metadata": {},
     "output_type": "execute_result"
    }
   ],
   "source": [
    "import numpy as np\n",
    "\n",
    "# Define matrices A and B\n",
    "a_ndarray = np.array([[-1, 2, 3], [4, -5, 6], [7, 8, -9]])\n",
    "b_ndarray = np.array([[0, 2, 1], [0, 2, -8], [2, 9, -1]])\n",
    "\n",
    "# Calculate matrix product using NumPy\n",
    "c_ndarray = np.matmul(a_ndarray, b_ndarray)\n",
    "c_ndarray"
   ]
  },
  {
   "cell_type": "markdown",
   "metadata": {},
   "source": [
    "## Implementation of calculation of a certain element"
   ]
  },
  {
   "cell_type": "code",
   "execution_count": 3,
   "metadata": {},
   "outputs": [
    {
     "name": "stdout",
     "output_type": "stream",
     "text": [
      "Element c_00 of the matrix product: 6\n"
     ]
    }
   ],
   "source": [
    "# Define matrices A and B\n",
    "a_ndarray = np.array([[-1, 2, 3], [4, -5, 6], [7, 8, -9]])\n",
    "b_ndarray = np.array([[0, 2, 1], [0, 2, -8], [2, 9, -1]])\n",
    "\n",
    "# Calculate a certain element of the matrix product without using NumPy functions\n",
    "c_00 = 0\n",
    "for k in range(3):\n",
    "    c_00 += a_ndarray[0, k] * b_ndarray[k, 0]\n",
    "\n",
    "print(\"Element c_00 of the matrix product:\", c_00)\n"
   ]
  },
  {
   "cell_type": "markdown",
   "metadata": {},
   "source": [
    "## Creating a function that performs matrix multiplication"
   ]
  },
  {
   "cell_type": "code",
   "execution_count": 5,
   "metadata": {},
   "outputs": [
    {
     "data": {
      "text/plain": [
       "array([[  6.,  29., -20.],\n",
       "       [ 12.,  52.,  38.],\n",
       "       [-18., -51., -48.]])"
      ]
     },
     "execution_count": 5,
     "metadata": {},
     "output_type": "execute_result"
    }
   ],
   "source": [
    "def matrix_product(a, b):\n",
    "    # Initialize an empty matrix for the result\n",
    "    c = np.zeros((a.shape[0], b.shape[1]))\n",
    "    \n",
    "    # Iterate through rows of A\n",
    "    for i in range(a.shape[0]):\n",
    "        # Iterate through columns of B\n",
    "        for j in range(b.shape[1]):\n",
    "            # Iterate through rows of B\n",
    "            for k in range(b.shape[0]):\n",
    "                c[i, j] += a[i, k] * b[k, j]\n",
    "    \n",
    "    return c\n",
    "\n",
    "# Test the function\n",
    "result_matrix = matrix_product(a_ndarray, b_ndarray)\n",
    "result_matrix"
   ]
  },
  {
   "cell_type": "markdown",
   "metadata": {},
   "source": [
    "## Judge the input whose calculation is not defined"
   ]
  },
  {
   "cell_type": "code",
   "execution_count": 7,
   "metadata": {},
   "outputs": [
    {
     "data": {
      "text/plain": [
       "array([[  6.,  29., -20.],\n",
       "       [ 12.,  52.,  38.],\n",
       "       [-18., -51., -48.]])"
      ]
     },
     "execution_count": 7,
     "metadata": {},
     "output_type": "execute_result"
    }
   ],
   "source": [
    "def matrix_product_safe(a, b):\n",
    "    if a.shape[1] != b.shape[0]:\n",
    "        print(\"Matrix multiplication is not defined for the given input matrices.\")\n",
    "        return None\n",
    "    else:\n",
    "        return matrix_product(a, b)\n",
    "\n",
    "# Test the function\n",
    "result_matrix_safe = matrix_product_safe(a_ndarray, b_ndarray)\n",
    "result_matrix_safe"
   ]
  },
  {
   "cell_type": "markdown",
   "metadata": {},
   "source": [
    "## Transposition"
   ]
  },
  {
   "cell_type": "code",
   "execution_count": 8,
   "metadata": {},
   "outputs": [],
   "source": [
    "# Transpose matrix B and calculate matrix product\n",
    "b_transpose = np.transpose(b_ndarray)\n",
    "c_transpose = matrix_product(a_ndarray, b_transpose)\n"
   ]
  },
  {
   "cell_type": "code",
   "execution_count": 9,
   "metadata": {},
   "outputs": [
    {
     "data": {
      "text/plain": [
       "array([[ 0,  0,  2],\n",
       "       [ 2,  2,  9],\n",
       "       [ 1, -8, -1]])"
      ]
     },
     "execution_count": 9,
     "metadata": {},
     "output_type": "execute_result"
    }
   ],
   "source": [
    "b_transpose"
   ]
  },
  {
   "cell_type": "code",
   "execution_count": 10,
   "metadata": {},
   "outputs": [
    {
     "data": {
      "text/plain": [
       "array([[  7., -20.,  13.],\n",
       "       [ -4., -58., -43.],\n",
       "       [  7.,  88.,  95.]])"
      ]
     },
     "execution_count": 10,
     "metadata": {},
     "output_type": "execute_result"
    }
   ],
   "source": [
    "c_transpose"
   ]
  },
  {
   "cell_type": "code",
   "execution_count": null,
   "metadata": {},
   "outputs": [],
   "source": []
  }
 ],
 "metadata": {
  "kernelspec": {
   "display_name": "dpro",
   "language": "python",
   "name": "python3"
  },
  "language_info": {
   "codemirror_mode": {
    "name": "ipython",
    "version": 3
   },
   "file_extension": ".py",
   "mimetype": "text/x-python",
   "name": "python",
   "nbconvert_exporter": "python",
   "pygments_lexer": "ipython3",
   "version": "3.10.12"
  }
 },
 "nbformat": 4,
 "nbformat_minor": 2
}
