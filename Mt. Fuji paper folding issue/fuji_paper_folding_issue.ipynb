{
 "cells": [
  {
   "cell_type": "code",
   "execution_count": 1,
   "metadata": {},
   "outputs": [],
   "source": [
    "import math"
   ]
  },
  {
   "cell_type": "code",
   "execution_count": 2,
   "metadata": {},
   "outputs": [],
   "source": [
    "def calculate_folded_thickness(n, t0=0.00008):\n",
    "    \"\"\"Calculate the thickness of the paper when folded n times.\n",
    "\n",
    "    Parameters\n",
    "    ----------\n",
    "    n: int\n",
    "        Number of folds\n",
    "    t0: float\n",
    "        Thickness of the paper before folding (default: 0.00008m)\n",
    "\n",
    "    Returns\n",
    "    -------\n",
    "    folded_thickness: float\n",
    "        Thickness of the paper after n folds\n",
    "    \"\"\"\n",
    "    folded_thickness = t0 * 2 ** n\n",
    "    return folded_thickness"
   ]
  },
  {
   "cell_type": "code",
   "execution_count": 3,
   "metadata": {},
   "outputs": [],
   "source": [
    "def folds_to_exceed_height(target_height, t0=0.00008):\n",
    "    \"\"\"Calculate the minimum number of folds to exceed a given height.\n",
    "\n",
    "    Parameters\n",
    "    ----------\n",
    "    target_height: float\n",
    "        Target height to exceed\n",
    "    t0: float\n",
    "        Thickness of the paper before folding (default: 0.00008m)\n",
    "\n",
    "    Returns\n",
    "    -------\n",
    "    min_folds: int\n",
    "        Minimum number of folds required\n",
    "    \"\"\"\n",
    "    min_folds = math.ceil(math.log2(target_height / t0))\n",
    "    return min_folds"
   ]
  },
  {
   "cell_type": "code",
   "execution_count": 4,
   "metadata": {},
   "outputs": [],
   "source": [
    "def folds_to_reach_distance(target_distance, t0=0.00008):\n",
    "    \"\"\"Calculate the number of folds to reach a certain distance.\n",
    "\n",
    "    Parameters\n",
    "    ----------\n",
    "    target_distance: float\n",
    "        Target distance to reach\n",
    "    t0: float\n",
    "        Thickness of the paper before folding (default: 0.00008m)\n",
    "\n",
    "    Returns\n",
    "    -------\n",
    "    folds_needed: int\n",
    "        Number of folds required to reach the target distance\n",
    "    \"\"\"\n",
    "    folds_needed = math.ceil(math.log2(target_distance / t0) / 2)\n",
    "    return folds_needed"
   ]
  },
  {
   "cell_type": "code",
   "execution_count": 5,
   "metadata": {},
   "outputs": [],
   "source": [
    "\n",
    "def calculate_required_paper_length(n, t0=0.00008):\n",
    "    \"\"\"Calculate the length of paper needed to fold n times.\n",
    "\n",
    "    Parameters\n",
    "    ----------\n",
    "    n: int\n",
    "        Number of folds\n",
    "    t0: float\n",
    "        Thickness of the paper before folding (default: 0.00008m)\n",
    "\n",
    "    Returns\n",
    "    -------\n",
    "    required_length: float\n",
    "        Length of paper needed to fold n times\n",
    "    \"\"\"\n",
    "    required_length = (math.pi * t0 / 6) * ((2 ** n) + 4) * ((2 ** n) - 1)\n",
    "    return required_length"
   ]
  },
  {
   "cell_type": "code",
   "execution_count": 6,
   "metadata": {},
   "outputs": [
    {
     "name": "stdout",
     "output_type": "stream",
     "text": [
      "To exceed the height of Mt. Fuji (3776m), you need to fold the paper at least 26 times.\n"
     ]
    }
   ],
   "source": [
    "# Problem 1: How many times to fold paper to exceed the height of Mt. Fuji\n",
    "fuji_height = 3776\n",
    "min_folds_fuji = folds_to_exceed_height(fuji_height)\n",
    "print(f\"To exceed the height of Mt. Fuji ({fuji_height}m), you need to fold the paper at least {min_folds_fuji} times.\")\n"
   ]
  },
  {
   "cell_type": "code",
   "execution_count": 7,
   "metadata": {},
   "outputs": [
    {
     "name": "stdout",
     "output_type": "stream",
     "text": [
      "To reach Proxima Centauri (4.0175e+16m), you need to fold the paper at least 35 times.\n"
     ]
    }
   ],
   "source": [
    "# Problem 2: Function corresponding to arbitrary thickness\n",
    "proxima_centauri_distance = 4.0175e16\n",
    "min_folds_proxima = folds_to_reach_distance(proxima_centauri_distance)\n",
    "print(f\"To reach Proxima Centauri ({proxima_centauri_distance}m), you need to fold the paper at least {min_folds_proxima} times.\")\n",
    "\n"
   ]
  },
  {
   "cell_type": "code",
   "execution_count": 8,
   "metadata": {},
   "outputs": [],
   "source": [
    "# Problem 3: Required paper length\n",
    "moon_distance = 384400000  # Moon distance from Earth\n",
    "required_length_moon = calculate_required_paper_length(min_folds_fuji)\n",
    "required_length_proxima = calculate_required_paper_length(min_folds_proxima)\n",
    "\n"
   ]
  },
  {
   "cell_type": "code",
   "execution_count": 9,
   "metadata": {},
   "outputs": [
    {
     "name": "stdout",
     "output_type": "stream",
     "text": [
      "To reach the Moon, you need a paper length of approximately 188646348487.24017 meters.\n",
      "To reach Proxima Centauri, you need a paper length of approximately 4.945250617145761e+16 meters.\n"
     ]
    }
   ],
   "source": [
    "print(f\"To reach the Moon, you need a paper length of approximately {required_length_moon} meters.\")\n",
    "print(f\"To reach Proxima Centauri, you need a paper length of approximately {required_length_proxima} meters.\")\n"
   ]
  },
  {
   "cell_type": "code",
   "execution_count": null,
   "metadata": {},
   "outputs": [],
   "source": []
  }
 ],
 "metadata": {
  "kernelspec": {
   "display_name": "dpro",
   "language": "python",
   "name": "python3"
  },
  "language_info": {
   "codemirror_mode": {
    "name": "ipython",
    "version": 3
   },
   "file_extension": ".py",
   "mimetype": "text/x-python",
   "name": "python",
   "nbconvert_exporter": "python",
   "pygments_lexer": "ipython3",
   "version": "3.10.12"
  }
 },
 "nbformat": 4,
 "nbformat_minor": 2
}
