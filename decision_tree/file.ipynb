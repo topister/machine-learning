{
 "cells": [
  {
   "cell_type": "markdown",
   "metadata": {},
   "source": [
    "### [Problem 1] Function for finding impureness"
   ]
  },
  {
   "cell_type": "code",
   "execution_count": 1,
   "metadata": {},
   "outputs": [],
   "source": [
    "class ScratchDecisionTreeClassifierDepth1():\n",
    "    \"\"\"\n",
    "    Depth 1 decision tree classifier scratch implementation\n",
    "\n",
    "    Parameters\n",
    "    ----------\n",
    "    verbose : bool\n",
    "      True to output the learning process\n",
    "    \"\"\"\n",
    "\n",
    "    def __init__(self, verbose=False):\n",
    "        # Record hyperparameters as attributes\n",
    "        self.verbose = verbose\n",
    "\n",
    "    def fit(self, X, y):\n",
    "        \"\"\"\n",
    "        Learn the decision tree classifier\n",
    "        Parameters\n",
    "        ----------\n",
    "        X : ndarray, shape (n_samples, n_features)\n",
    "            Features of training data\n",
    "        y : ndarray, shape (n_samples,)\n",
    "            Correct answer value of training data\n",
    "        \"\"\"\n",
    "        if self.verbose:\n",
    "            # Output the learning process when verbose is set to True\n",
    "            print(\"Learning process...\")\n",
    "        pass\n",
    "\n",
    "    def predict(self, X):\n",
    "        \"\"\"\n",
    "        Estimate the label using a decision tree classifier\n",
    "        \"\"\"\n",
    "        pass\n",
    "        return\n"
   ]
  },
  {
   "cell_type": "code",
   "execution_count": 2,
   "metadata": {},
   "outputs": [
    {
     "name": "stdout",
     "output_type": "stream",
     "text": [
      "0.5\n",
      "0.6666666666666667\n",
      "0.48\n",
      "0.0\n"
     ]
    }
   ],
   "source": [
    "def gini_impurity(classes):\n",
    "    total_samples = sum(classes)\n",
    "    impurity = 1 - sum((count / total_samples) ** 2 for count in classes)\n",
    "    return impurity\n",
    "\n",
    "# Example usage\n",
    "print(gini_impurity([15, 15])) \n",
    "print(gini_impurity([15, 15, 15]))  \n",
    "print(gini_impurity([18, 12]))  \n",
    "print(gini_impurity([30, 0]))  \n"
   ]
  },
  {
   "cell_type": "markdown",
   "metadata": {},
   "source": [
    "### [Problem 2] Function for finding information gain"
   ]
  },
  {
   "cell_type": "code",
   "execution_count": 3,
   "metadata": {},
   "outputs": [
    {
     "name": "stdout",
     "output_type": "stream",
     "text": [
      "0.14319526627218937\n"
     ]
    }
   ],
   "source": [
    "def gini_impurity(classes):\n",
    "    total_samples = sum(classes)\n",
    "    impurity = 1 - sum((count / total_samples) ** 2 for count in classes)\n",
    "    return impurity\n",
    "\n",
    "def information_gain(parent, left, right):\n",
    "    # Calculate the Gini impurity of the parent node\n",
    "    parent_impurity = gini_impurity(parent)\n",
    "    \n",
    "    # Calculate the Gini impurity of the left and right nodes\n",
    "    left_impurity = gini_impurity(left)\n",
    "    right_impurity = gini_impurity(right)\n",
    "    \n",
    "    # Calculate the proportion of samples in the left and right nodes\n",
    "    total_samples = sum(parent)\n",
    "    left_weight = sum(left) / total_samples\n",
    "    right_weight = sum(right) / total_samples\n",
    "    \n",
    "    # Calculate the information gain\n",
    "    ig = parent_impurity - (left_weight * left_impurity) - (right_weight * right_impurity)\n",
    "    return ig\n",
    "\n",
    "# Example usage\n",
    "parent = [30, 35]\n",
    "left = [10, 30]\n",
    "right = [20, 5]\n",
    "\n",
    "print(information_gain(parent, left, right)) \n"
   ]
  },
  {
   "cell_type": "markdown",
   "metadata": {},
   "source": [
    "### [Problem 3] Learning"
   ]
  },
  {
   "cell_type": "code",
   "execution_count": 4,
   "metadata": {},
   "outputs": [],
   "source": [
    "import numpy as np\n",
    "\n",
    "class ScratchDecisionTreeClassifierDepth1:\n",
    "    \"\"\"\n",
    "    Depth 1 decision tree classifier scratch implementation\n",
    "\n",
    "    Parameters\n",
    "    ----------\n",
    "    verbose : bool\n",
    "      True to output the learning process\n",
    "    \"\"\"\n",
    "\n",
    "    def __init__(self, verbose=False):\n",
    "        # Record hyperparameters as attributes\n",
    "        self.verbose = verbose\n",
    "        self.best_feature = None\n",
    "        self.best_threshold = None\n",
    "        self.left_class = None\n",
    "        self.right_class = None\n",
    "\n",
    "    def fit(self, X, y):\n",
    "        \"\"\"\n",
    "        Learn the decision tree classifier\n",
    "        Parameters\n",
    "        ----------\n",
    "        X : The following forms of ndarray, shape (n_samples, n_features)\n",
    "            Features of training data\n",
    "        y : The following form of ndarray, shape (n_samples,)\n",
    "            Correct answer value of training data\n",
    "        \"\"\"\n",
    "        n_samples, n_features = X.shape\n",
    "        best_ig = -1\n",
    "        \n",
    "        for feature in range(n_features):\n",
    "            thresholds = np.unique(X[:, feature])\n",
    "            for threshold in thresholds:\n",
    "                left_indices = X[:, feature] < threshold\n",
    "                right_indices = X[:, feature] >= threshold\n",
    "                left_classes = y[left_indices]\n",
    "                right_classes = y[right_indices]\n",
    "                \n",
    "                if len(left_classes) == 0 or len(right_classes) == 0:\n",
    "                    continue\n",
    "                \n",
    "                parent_classes = np.bincount(y)\n",
    "                left_classes_count = np.bincount(left_classes, minlength=len(parent_classes))\n",
    "                right_classes_count = np.bincount(right_classes, minlength=len(parent_classes))\n",
    "                \n",
    "                ig = information_gain(parent_classes, left_classes_count, right_classes_count)\n",
    "                \n",
    "                if ig > best_ig:\n",
    "                    best_ig = ig\n",
    "                    self.best_feature = feature\n",
    "                    self.best_threshold = threshold\n",
    "                    self.left_class = np.argmax(left_classes_count)\n",
    "                    self.right_class = np.argmax(right_classes_count)\n",
    "\n",
    "        if self.verbose:\n",
    "            print(f\"Best feature: {self.best_feature}\")\n",
    "            print(f\"Best threshold: {self.best_threshold}\")\n",
    "            print(f\"Left class: {self.left_class}\")\n",
    "            print(f\"Right class: {self.right_class}\")\n",
    "\n",
    "    def predict(self, X):\n",
    "        \"\"\"\n",
    "        Estimate the label using a decision tree classifier\n",
    "        \"\"\"\n",
    "        if self.best_feature is None:\n",
    "            raise Exception(\"The model is not trained yet!\")\n",
    "\n",
    "        predictions = []\n",
    "        for x in X:\n",
    "            if x[self.best_feature] < self.best_threshold:\n",
    "                predictions.append(self.left_class)\n",
    "            else:\n",
    "                predictions.append(self.right_class)\n",
    "        return np.array(predictions)"
   ]
  },
  {
   "cell_type": "code",
   "execution_count": 5,
   "metadata": {},
   "outputs": [],
   "source": [
    "def gini_impurity(classes):\n",
    "    total_samples = sum(classes)\n",
    "    impurity = 1 - sum((count / total_samples) ** 2 for count in classes)\n",
    "    return impurity\n",
    "\n",
    "def information_gain(parent, left, right):\n",
    "    # Calculate the Gini impurity of the parent node\n",
    "    parent_impurity = gini_impurity(parent)\n",
    "    \n",
    "    # Calculate the Gini impurity of the left and right nodes\n",
    "    left_impurity = gini_impurity(left)\n",
    "    right_impurity = gini_impurity(right)\n",
    "    \n",
    "    # Calculate the proportion of samples in the left and right nodes\n",
    "    total_samples = sum(parent)\n",
    "    left_weight = sum(left) / total_samples\n",
    "    right_weight = sum(right) / total_samples\n",
    "    \n",
    "    # Calculate the information gain\n",
    "    ig = parent_impurity - (left_weight * left_impurity) - (right_weight * right_impurity)\n",
    "    return ig"
   ]
  },
  {
   "cell_type": "code",
   "execution_count": 6,
   "metadata": {},
   "outputs": [
    {
     "name": "stdout",
     "output_type": "stream",
     "text": [
      "Best feature: 0\n",
      "Best threshold: 3.5\n",
      "Left class: 0\n",
      "Right class: 1\n",
      "Predictions: [0 1 0 1]\n"
     ]
    }
   ],
   "source": [
    "X_train = np.array([[2.5, 1, 5], [3.5, 0, 6], [1.5, 1, 7], [4.5, 0, 8]])\n",
    "y_train = np.array([0, 1, 0, 1])\n",
    "\n",
    "model = ScratchDecisionTreeClassifierDepth1(verbose=True)\n",
    "model.fit(X_train, y_train)\n",
    "predictions = model.predict(X_train)\n",
    "\n",
    "print(\"Predictions:\", predictions)"
   ]
  },
  {
   "cell_type": "markdown",
   "metadata": {},
   "source": [
    "### [Problem 4] Estimate"
   ]
  },
  {
   "cell_type": "code",
   "execution_count": 7,
   "metadata": {},
   "outputs": [],
   "source": [
    "class ScratchDecisionTreeClassifierDepth1:\n",
    "    \"\"\"\n",
    "    Depth 1 decision tree classifier scratch implementation\n",
    "\n",
    "    Parameters\n",
    "    ----------\n",
    "    verbose : bool\n",
    "      True to output the learning process\n",
    "    \"\"\"\n",
    "\n",
    "    def __init__(self, verbose=False):\n",
    "        # Record hyperparameters as attributes\n",
    "        self.verbose = verbose\n",
    "        self.best_feature = None\n",
    "        self.best_threshold = None\n",
    "        self.left_class = None\n",
    "        self.right_class = None\n",
    "\n",
    "    def fit(self, X, y):\n",
    "        \"\"\"\n",
    "        Learn the decision tree classifier\n",
    "        Parameters\n",
    "        ----------\n",
    "        X : The following forms of ndarray, shape (n_samples, n_features)\n",
    "            Features of training data\n",
    "        y : The following form of ndarray, shape (n_samples,)\n",
    "            Correct answer value of training data\n",
    "        \"\"\"\n",
    "        n_samples, n_features = X.shape\n",
    "        best_ig = -1\n",
    "        \n",
    "        for feature in range(n_features):\n",
    "            thresholds = np.unique(X[:, feature])\n",
    "            for threshold in thresholds:\n",
    "                left_indices = X[:, feature] < threshold\n",
    "                right_indices = X[:, feature] >= threshold\n",
    "                left_classes = y[left_indices]\n",
    "                right_classes = y[right_indices]\n",
    "                \n",
    "                if len(left_classes) == 0 or len(right_classes) == 0:\n",
    "                    continue\n",
    "                \n",
    "                parent_classes = np.bincount(y)\n",
    "                left_classes_count = np.bincount(left_classes, minlength=len(parent_classes))\n",
    "                right_classes_count = np.bincount(right_classes, minlength=len(parent_classes))\n",
    "                \n",
    "                ig = information_gain(parent_classes, left_classes_count, right_classes_count)\n",
    "                \n",
    "                if ig > best_ig:\n",
    "                    best_ig = ig\n",
    "                    self.best_feature = feature\n",
    "                    self.best_threshold = threshold\n",
    "                    self.left_class = np.argmax(left_classes_count)\n",
    "                    self.right_class = np.argmax(right_classes_count)\n",
    "\n",
    "        if self.verbose:\n",
    "            print(f\"Best feature: {self.best_feature}\")\n",
    "            print(f\"Best threshold: {self.best_threshold}\")\n",
    "            print(f\"Left class: {self.left_class}\")\n",
    "            print(f\"Right class: {self.right_class}\")\n",
    "\n",
    "    def predict(self, X):\n",
    "        \"\"\"\n",
    "        Estimate the label using a decision tree classifier\n",
    "        \"\"\"\n",
    "        if self.best_feature is None:\n",
    "            raise Exception(\"The model is not trained yet!\")\n",
    "\n",
    "        predictions = []\n",
    "        for x in X:\n",
    "            if x[self.best_feature] < self.best_threshold:\n",
    "                predictions.append(self.left_class)\n",
    "            else:\n",
    "                predictions.append(self.right_class)\n",
    "        return np.array(predictions)"
   ]
  },
  {
   "cell_type": "code",
   "execution_count": 8,
   "metadata": {},
   "outputs": [],
   "source": [
    "def information_gain(parent, left, right):\n",
    "    # Calculate the Gini impurity of the parent node\n",
    "    parent_impurity = gini_impurity(parent)\n",
    "    \n",
    "    # Calculate the Gini impurity of the left and right nodes\n",
    "    left_impurity = gini_impurity(left)\n",
    "    right_impurity = gini_impurity(right)\n",
    "    \n",
    "    # Calculate the proportion of samples in the left and right nodes\n",
    "    total_samples = sum(parent)\n",
    "    left_weight = sum(left) / total_samples\n",
    "    right_weight = sum(right) / total_samples\n",
    "    \n",
    "    # Calculate the information gain\n",
    "    ig = parent_impurity - (left_weight * left_impurity) - (right_weight * right_impurity)\n",
    "    return ig\n"
   ]
  },
  {
   "cell_type": "code",
   "execution_count": 9,
   "metadata": {},
   "outputs": [
    {
     "name": "stdout",
     "output_type": "stream",
     "text": [
      "Best feature: 0\n",
      "Best threshold: 3.5\n",
      "Left class: 0\n",
      "Right class: 1\n",
      "Predictions: [0 1 0 1]\n"
     ]
    }
   ],
   "source": [
    "# usage\n",
    "X_train = np.array([[2.5, 1, 5], [3.5, 0, 6], [1.5, 1, 7], [4.5, 0, 8]])\n",
    "y_train = np.array([0, 1, 0, 1])\n",
    "\n",
    "model = ScratchDecisionTreeClassifierDepth1(verbose=True)\n",
    "model.fit(X_train, y_train)\n",
    "predictions = model.predict(X_train)\n",
    "\n",
    "print(\"Predictions:\", predictions)"
   ]
  },
  {
   "cell_type": "markdown",
   "metadata": {},
   "source": [
    "### [Problem 5] Learning and estimation"
   ]
  },
  {
   "cell_type": "code",
   "execution_count": 10,
   "metadata": {},
   "outputs": [],
   "source": [
    "from sklearn.metrics import accuracy_score, precision_score, recall_score\n",
    "from sklearn.tree import DecisionTreeClassifier\n",
    "\n",
    "# Simple Dataset 2\n",
    "X_simple = np.array([[2.5, 1, 5],\n",
    "                     [3.5, 0, 6],\n",
    "                     [1.5, 1, 7],\n",
    "                     [4.5, 0, 8],\n",
    "                     [2.7, 1, 4],\n",
    "                     [3.6, 0, 5],\n",
    "                     [1.3, 1, 6],\n",
    "                     [4.7, 0, 7]])\n",
    "\n",
    "y_simple = np.array([0, 1, 0, 1, 0, 1, 0, 1])"
   ]
  },
  {
   "cell_type": "code",
   "execution_count": 11,
   "metadata": {},
   "outputs": [],
   "source": [
    "# Split the dataset into a training and testing set\n",
    "from sklearn.model_selection import train_test_split\n",
    "\n",
    "X_train, X_test, y_train, y_test = train_test_split(X_simple, y_simple, test_size=0.5, random_state=42)\n"
   ]
  },
  {
   "cell_type": "code",
   "execution_count": 12,
   "metadata": {},
   "outputs": [
    {
     "name": "stdout",
     "output_type": "stream",
     "text": [
      "Best feature: 0\n",
      "Best threshold: 4.5\n",
      "Left class: 0\n",
      "Right class: 1\n"
     ]
    }
   ],
   "source": [
    "# Instantiate the Scratch Decision Tree Classifier\n",
    "scratch_model = ScratchDecisionTreeClassifierDepth1(verbose=True)\n",
    "scratch_model.fit(X_train, y_train)\n",
    "scratch_predictions = scratch_model.predict(X_test)"
   ]
  },
  {
   "cell_type": "code",
   "execution_count": 13,
   "metadata": {},
   "outputs": [],
   "source": [
    "# Calculate the accuracy, precision, and recall\n",
    "scratch_accuracy = accuracy_score(y_test, scratch_predictions)\n",
    "scratch_precision = precision_score(y_test, scratch_predictions)\n",
    "scratch_recall = recall_score(y_test, scratch_predictions)"
   ]
  },
  {
   "cell_type": "code",
   "execution_count": 14,
   "metadata": {},
   "outputs": [
    {
     "name": "stdout",
     "output_type": "stream",
     "text": [
      "Scratch Decision Tree Classifier:\n",
      "Accuracy: 0.5\n",
      "Precision: 1.0\n",
      "Recall: 0.3333333333333333\n"
     ]
    }
   ],
   "source": [
    "print(\"Scratch Decision Tree Classifier:\")\n",
    "print(f\"Accuracy: {scratch_accuracy}\")\n",
    "print(f\"Precision: {scratch_precision}\")\n",
    "print(f\"Recall: {scratch_recall}\")"
   ]
  },
  {
   "cell_type": "code",
   "execution_count": 15,
   "metadata": {},
   "outputs": [],
   "source": [
    "# Instantiate and train the scikit-learn Decision Tree Classifier\n",
    "sklearn_model = DecisionTreeClassifier(max_depth=1, random_state=42)\n",
    "sklearn_model.fit(X_train, y_train)\n",
    "sklearn_predictions = sklearn_model.predict(X_test)"
   ]
  },
  {
   "cell_type": "code",
   "execution_count": 16,
   "metadata": {},
   "outputs": [],
   "source": [
    "# Calculate the accuracy, precision, and recall\n",
    "sklearn_accuracy = accuracy_score(y_test, sklearn_predictions)\n",
    "sklearn_precision = precision_score(y_test, sklearn_predictions)\n",
    "sklearn_recall = recall_score(y_test, sklearn_predictions)"
   ]
  },
  {
   "cell_type": "code",
   "execution_count": 17,
   "metadata": {},
   "outputs": [
    {
     "name": "stdout",
     "output_type": "stream",
     "text": [
      "\n",
      "Scikit-learn Decision Tree Classifier:\n",
      "Accuracy: 1.0\n",
      "Precision: 1.0\n",
      "Recall: 1.0\n"
     ]
    }
   ],
   "source": [
    "print(\"\\nScikit-learn Decision Tree Classifier:\")\n",
    "print(f\"Accuracy: {sklearn_accuracy}\")\n",
    "print(f\"Precision: {sklearn_precision}\")\n",
    "print(f\"Recall: {sklearn_recall}\")"
   ]
  },
  {
   "cell_type": "markdown",
   "metadata": {},
   "source": [
    "### [Problem 6] Visualization of decision area"
   ]
  },
  {
   "cell_type": "code",
   "execution_count": 22,
   "metadata": {},
   "outputs": [],
   "source": [
    "import matplotlib.pyplot as plt\n",
    "from matplotlib.colors import ListedColormap\n",
    "from sklearn.tree import DecisionTreeClassifier\n",
    "\n",
    "# Define the plotting function\n",
    "def plot_decision_boundary(model, X, y, title=\"Decision Boundary\"):\n",
    "    x_min, x_max = X[:, 0].min() - 1, X[:, 0].max() + 1\n",
    "    y_min, y_max = X[:, 1].min() - 1, X[:, 1].max() + 1\n",
    "    xx, yy = np.meshgrid(np.arange(x_min, x_max, 0.01),\n",
    "                         np.arange(y_min, y_max, 0.01))\n",
    "\n",
    "    Z = model.predict(np.c_[xx.ravel(), yy.ravel()])\n",
    "    Z = Z.reshape(xx.shape)\n",
    "\n",
    "    plt.contourf(xx, yy, Z, alpha=0.8, cmap=ListedColormap(['#FFAAAA', '#AAAAFF']))\n",
    "    plt.scatter(X[:, 0], X[:, 1], c=y, edgecolor='k', marker='o', cmap=ListedColormap(['#FF0000', '#0000FF']))\n",
    "    plt.xlabel('Feature 1')\n",
    "    plt.ylabel('Feature 2')\n",
    "    plt.title(title)\n",
    "    plt.show()\n"
   ]
  },
  {
   "cell_type": "code",
   "execution_count": 23,
   "metadata": {},
   "outputs": [],
   "source": [
    "# # Select features for visualization\n",
    "# X_train_2D = X_train[:, :2]\n",
    "# X_test_2D = X_test[:, :2]\n",
    "\n",
    "\n",
    "# Example data (2D for visualization)\n",
    "X_train = np.array([[2.5, 1], [3.5, 0], [1.5, 1], [4.5, 0]])\n",
    "y_train = np.array([0, 1, 0, 1])\n",
    "X_test = np.array([[2.0, 1], [3.0, 0]])\n",
    "y_test = np.array([0, 1])"
   ]
  },
  {
   "cell_type": "code",
   "execution_count": 24,
   "metadata": {},
   "outputs": [
    {
     "data": {
      "image/png": "[encoded data removed]",
      "text/plain": [
       "<Figure size 640x480 with 1 Axes>"
      ]
     },
     "metadata": {},
     "output_type": "display_data"
    }
   ],
   "source": [
    "# Train and plot decision boundary for scikit-learn model\n",
    "# Ensure the model is trained with the same number of features as used for prediction\n",
    "sklearn_model = DecisionTreeClassifier(max_depth=1)\n",
    "sklearn_model.fit(X_train, y_train)\n",
    "plot_decision_boundary(sklearn_model, X_train, y_train, title=\"Scikit-learn Model Decision Boundary\")\n",
    "\n"
   ]
  },
  {
   "cell_type": "code",
   "execution_count": 25,
   "metadata": {},
   "outputs": [
    {
     "data": {
      "image/png": "[encoded data removed]",
      "text/plain": [
       "<Figure size 640x480 with 1 Axes>"
      ]
     },
     "metadata": {},
     "output_type": "display_data"
    }
   ],
   "source": [
    "# Visualization with scratch model\n",
    "plot_decision_boundary(scratch_model, X_train, y_train, title=\"Scratch Model Decision Boundary\")"
   ]
  },
  {
   "cell_type": "markdown",
   "metadata": {},
   "source": [
    "### [Problem 7] (Advance assignment) Creation of a decision tree classifier class with a depth of 2"
   ]
  },
  {
   "cell_type": "code",
   "execution_count": 43,
   "metadata": {},
   "outputs": [],
   "source": [
    "import numpy as np\n",
    "\n",
    "class ScratchDecisionTreeClassifierDepth2:\n",
    "    def __init__(self, verbose=False):\n",
    "        self.verbose = verbose\n",
    "        self.tree = None\n",
    "\n",
    "    def gini_impurity(self, y):\n",
    "        \"\"\"Calculate Gini impurity for a node.\"\"\"\n",
    "        classes, counts = np.unique(y, return_counts=True)\n",
    "        impurity = 1 - sum((count / len(y)) ** 2 for count in counts)\n",
    "        return impurity\n",
    "\n",
    "    def information_gain(self, y, left_y, right_y):\n",
    "        \"\"\"Calculate information gain from splitting.\"\"\"\n",
    "        parent_impurity = self.gini_impurity(y)\n",
    "        left_impurity = self.gini_impurity(left_y) if len(left_y) > 0 else 0\n",
    "        right_impurity = self.gini_impurity(right_y) if len(right_y) > 0 else 0\n",
    "        left_weight = len(left_y) / len(y)\n",
    "        right_weight = len(right_y) / len(y)\n",
    "        return parent_impurity - (left_weight * left_impurity + right_weight * right_impurity)\n",
    "\n",
    "    def best_split(self, X, y):\n",
    "        \"\"\"Find the best feature and threshold to split.\"\"\"\n",
    "        best_gain = 0\n",
    "        best_split = None\n",
    "        n_features = X.shape[1]\n",
    "        \n",
    "        for feature in range(n_features):\n",
    "            thresholds = np.unique(X[:, feature])\n",
    "            for threshold in thresholds:\n",
    "                left_mask = X[:, feature] <= threshold\n",
    "                right_mask = X[:, feature] > threshold\n",
    "                left_y, right_y = y[left_mask], y[right_mask]\n",
    "                gain = self.information_gain(y, left_y, right_y)\n",
    "                if gain > best_gain:\n",
    "                    best_gain = gain\n",
    "                    best_split = (feature, threshold)\n",
    "        \n",
    "        return best_split\n",
    "\n",
    "    def fit(self, X, y):\n",
    "        \"\"\"Fit the decision tree classifier.\"\"\"\n",
    "        self.tree = self._build_tree(X, y, depth=2)\n",
    "        if self.verbose:\n",
    "            print(\"Tree built successfully.\")\n",
    "            self._print_tree(self.tree)\n",
    "\n",
    "    def _build_tree(self, X, y, depth):\n",
    "        \"\"\"Recursively build the decision tree.\"\"\"\n",
    "        if depth == 0 or len(np.unique(y)) == 1:\n",
    "            return np.bincount(y).argmax()  # Leaf node\n",
    "        \n",
    "        feature, threshold = self.best_split(X, y)\n",
    "        if feature is None:\n",
    "            return np.bincount(y).argmax()  # Leaf node if no valid split\n",
    "        \n",
    "        left_mask = X[:, feature] <= threshold\n",
    "        right_mask = X[:, feature] > threshold\n",
    "        left_node = self._build_tree(X[left_mask], y[left_mask], depth - 1)\n",
    "        right_node = self._build_tree(X[right_mask], y[right_mask], depth - 1)\n",
    "        \n",
    "        return (feature, threshold, left_node, right_node)\n",
    "\n",
    "    def _predict_node(self, node, x):\n",
    "        \"\"\"Predict class for a single sample using the tree.\"\"\"\n",
    "        if isinstance(node, int):  # Leaf node\n",
    "            return node\n",
    "        elif isinstance(node, tuple):  # Decision node\n",
    "            feature, threshold, left_node, right_node = node\n",
    "            if x[feature] <= threshold:\n",
    "                return self._predict_node(left_node, x)\n",
    "            else:\n",
    "                return self._predict_node(right_node, x)\n",
    "        else:\n",
    "            raise ValueError(f\"Unexpected node type: {type(node)}\")\n",
    "\n",
    "    def predict(self, X):\n",
    "        \"\"\"Predict classes for all samples.\"\"\"\n",
    "        return np.array([self._predict_node(self.tree, x) for x in X])\n",
    "\n",
    "    def _print_tree(self, node, depth=0):\n",
    "        \"\"\"Print the tree structure for debugging.\"\"\"\n",
    "        if isinstance(node, int):\n",
    "            print(f\"{'  ' * depth}Leaf node with class {node}\")\n",
    "        elif isinstance(node, tuple):\n",
    "            feature, threshold, left_node, right_node = node\n",
    "            print(f\"{'  ' * depth}Decision node: feature {feature} <= {threshold}\")\n",
    "            print(f\"{'  ' * (depth + 1)}Left subtree:\")\n",
    "            self._print_tree(left_node, depth + 1)\n",
    "            print(f\"{'  ' * (depth + 1)}Right subtree:\")\n",
    "            self._print_tree(right_node, depth + 1)\n",
    "        else:\n",
    "            raise ValueError(f\"Unexpected node type during tree print: {type(node)}\")\n"
   ]
  },
  {
   "cell_type": "code",
   "execution_count": 44,
   "metadata": {},
   "outputs": [
    {
     "name": "stdout",
     "output_type": "stream",
     "text": [
      "Tree built successfully.\n",
      "Decision node: feature 0 <= 2.5\n",
      "  Left subtree:\n"
     ]
    },
    {
     "ename": "ValueError",
     "evalue": "Unexpected node type during tree print: <class 'numpy.int64'>",
     "output_type": "error",
     "traceback": [
      "\u001b[0;31m---------------------------------------------------------------------------\u001b[0m",
      "\u001b[0;31mValueError\u001b[0m                                Traceback (most recent call last)",
      "Cell \u001b[0;32mIn[44], line 6\u001b[0m\n\u001b[1;32m      4\u001b[0m \u001b[38;5;66;03m# Initialize and train the model\u001b[39;00m\n\u001b[1;32m      5\u001b[0m model \u001b[38;5;241m=\u001b[39m ScratchDecisionTreeClassifierDepth2(verbose\u001b[38;5;241m=\u001b[39m\u001b[38;5;28;01mTrue\u001b[39;00m)\n\u001b[0;32m----> 6\u001b[0m \u001b[43mmodel\u001b[49m\u001b[38;5;241;43m.\u001b[39;49m\u001b[43mfit\u001b[49m\u001b[43m(\u001b[49m\u001b[43mX_train\u001b[49m\u001b[43m,\u001b[49m\u001b[43m \u001b[49m\u001b[43my_train\u001b[49m\u001b[43m)\u001b[49m\n\u001b[1;32m      8\u001b[0m \u001b[38;5;66;03m# Predictions\u001b[39;00m\n\u001b[1;32m      9\u001b[0m X_test \u001b[38;5;241m=\u001b[39m np\u001b[38;5;241m.\u001b[39marray([[\u001b[38;5;241m2.0\u001b[39m, \u001b[38;5;241m1\u001b[39m], [\u001b[38;5;241m3.0\u001b[39m, \u001b[38;5;241m0\u001b[39m]])\n",
      "Cell \u001b[0;32mIn[43], line 47\u001b[0m, in \u001b[0;36mScratchDecisionTreeClassifierDepth2.fit\u001b[0;34m(self, X, y)\u001b[0m\n\u001b[1;32m     45\u001b[0m \u001b[38;5;28;01mif\u001b[39;00m \u001b[38;5;28mself\u001b[39m\u001b[38;5;241m.\u001b[39mverbose:\n\u001b[1;32m     46\u001b[0m     \u001b[38;5;28mprint\u001b[39m(\u001b[38;5;124m\"\u001b[39m\u001b[38;5;124mTree built successfully.\u001b[39m\u001b[38;5;124m\"\u001b[39m)\n\u001b[0;32m---> 47\u001b[0m     \u001b[38;5;28;43mself\u001b[39;49m\u001b[38;5;241;43m.\u001b[39;49m\u001b[43m_print_tree\u001b[49m\u001b[43m(\u001b[49m\u001b[38;5;28;43mself\u001b[39;49m\u001b[38;5;241;43m.\u001b[39;49m\u001b[43mtree\u001b[49m\u001b[43m)\u001b[49m\n",
      "Cell \u001b[0;32mIn[43], line 90\u001b[0m, in \u001b[0;36mScratchDecisionTreeClassifierDepth2._print_tree\u001b[0;34m(self, node, depth)\u001b[0m\n\u001b[1;32m     88\u001b[0m \u001b[38;5;28mprint\u001b[39m(\u001b[38;5;124mf\u001b[39m\u001b[38;5;124m\"\u001b[39m\u001b[38;5;132;01m{\u001b[39;00m\u001b[38;5;124m'\u001b[39m\u001b[38;5;124m  \u001b[39m\u001b[38;5;124m'\u001b[39m\u001b[38;5;250m \u001b[39m\u001b[38;5;241m*\u001b[39m\u001b[38;5;250m \u001b[39mdepth\u001b[38;5;132;01m}\u001b[39;00m\u001b[38;5;124mDecision node: feature \u001b[39m\u001b[38;5;132;01m{\u001b[39;00mfeature\u001b[38;5;132;01m}\u001b[39;00m\u001b[38;5;124m <= \u001b[39m\u001b[38;5;132;01m{\u001b[39;00mthreshold\u001b[38;5;132;01m}\u001b[39;00m\u001b[38;5;124m\"\u001b[39m)\n\u001b[1;32m     89\u001b[0m \u001b[38;5;28mprint\u001b[39m(\u001b[38;5;124mf\u001b[39m\u001b[38;5;124m\"\u001b[39m\u001b[38;5;132;01m{\u001b[39;00m\u001b[38;5;124m'\u001b[39m\u001b[38;5;124m  \u001b[39m\u001b[38;5;124m'\u001b[39m\u001b[38;5;250m \u001b[39m\u001b[38;5;241m*\u001b[39m\u001b[38;5;250m \u001b[39m(depth\u001b[38;5;250m \u001b[39m\u001b[38;5;241m+\u001b[39m\u001b[38;5;250m \u001b[39m\u001b[38;5;241m1\u001b[39m)\u001b[38;5;132;01m}\u001b[39;00m\u001b[38;5;124mLeft subtree:\u001b[39m\u001b[38;5;124m\"\u001b[39m)\n\u001b[0;32m---> 90\u001b[0m \u001b[38;5;28;43mself\u001b[39;49m\u001b[38;5;241;43m.\u001b[39;49m\u001b[43m_print_tree\u001b[49m\u001b[43m(\u001b[49m\u001b[43mleft_node\u001b[49m\u001b[43m,\u001b[49m\u001b[43m \u001b[49m\u001b[43mdepth\u001b[49m\u001b[43m \u001b[49m\u001b[38;5;241;43m+\u001b[39;49m\u001b[43m \u001b[49m\u001b[38;5;241;43m1\u001b[39;49m\u001b[43m)\u001b[49m\n\u001b[1;32m     91\u001b[0m \u001b[38;5;28mprint\u001b[39m(\u001b[38;5;124mf\u001b[39m\u001b[38;5;124m\"\u001b[39m\u001b[38;5;132;01m{\u001b[39;00m\u001b[38;5;124m'\u001b[39m\u001b[38;5;124m  \u001b[39m\u001b[38;5;124m'\u001b[39m\u001b[38;5;250m \u001b[39m\u001b[38;5;241m*\u001b[39m\u001b[38;5;250m \u001b[39m(depth\u001b[38;5;250m \u001b[39m\u001b[38;5;241m+\u001b[39m\u001b[38;5;250m \u001b[39m\u001b[38;5;241m1\u001b[39m)\u001b[38;5;132;01m}\u001b[39;00m\u001b[38;5;124mRight subtree:\u001b[39m\u001b[38;5;124m\"\u001b[39m)\n\u001b[1;32m     92\u001b[0m \u001b[38;5;28mself\u001b[39m\u001b[38;5;241m.\u001b[39m_print_tree(right_node, depth \u001b[38;5;241m+\u001b[39m \u001b[38;5;241m1\u001b[39m)\n",
      "Cell \u001b[0;32mIn[43], line 94\u001b[0m, in \u001b[0;36mScratchDecisionTreeClassifierDepth2._print_tree\u001b[0;34m(self, node, depth)\u001b[0m\n\u001b[1;32m     92\u001b[0m     \u001b[38;5;28mself\u001b[39m\u001b[38;5;241m.\u001b[39m_print_tree(right_node, depth \u001b[38;5;241m+\u001b[39m \u001b[38;5;241m1\u001b[39m)\n\u001b[1;32m     93\u001b[0m \u001b[38;5;28;01melse\u001b[39;00m:\n\u001b[0;32m---> 94\u001b[0m     \u001b[38;5;28;01mraise\u001b[39;00m \u001b[38;5;167;01mValueError\u001b[39;00m(\u001b[38;5;124mf\u001b[39m\u001b[38;5;124m\"\u001b[39m\u001b[38;5;124mUnexpected node type during tree print: \u001b[39m\u001b[38;5;132;01m{\u001b[39;00m\u001b[38;5;28mtype\u001b[39m(node)\u001b[38;5;132;01m}\u001b[39;00m\u001b[38;5;124m\"\u001b[39m)\n",
      "\u001b[0;31mValueError\u001b[0m: Unexpected node type during tree print: <class 'numpy.int64'>"
     ]
    }
   ],
   "source": [
    "X_train = np.array([[2.5, 1], [3.5, 0], [1.5, 1], [4.5, 0], [2.0, 0], [5.0, 1]])\n",
    "y_train = np.array([0, 1, 0, 1, 0, 1])\n",
    "\n",
    "# Initialize and train the model\n",
    "model = ScratchDecisionTreeClassifierDepth2(verbose=True)\n",
    "model.fit(X_train, y_train)\n",
    "\n",
    "# Predictions\n",
    "X_test = np.array([[2.0, 1], [3.0, 0]])\n",
    "predictions = model.predict(X_test)\n",
    "print(\"Predictions:\", predictions)"
   ]
  },
  {
   "cell_type": "code",
   "execution_count": 45,
   "metadata": {},
   "outputs": [
    {
     "name": "stdout",
     "output_type": "stream",
     "text": [
      "Tree built successfully.\n",
      "Decision node: feature 0 <= 2.5\n",
      "  Left subtree:\n"
     ]
    },
    {
     "ename": "ValueError",
     "evalue": "Unexpected node type during tree print: <class 'numpy.int64'>",
     "output_type": "error",
     "traceback": [
      "\u001b[0;31m---------------------------------------------------------------------------\u001b[0m",
      "\u001b[0;31mValueError\u001b[0m                                Traceback (most recent call last)",
      "Cell \u001b[0;32mIn[45], line 104\u001b[0m\n\u001b[1;32m    102\u001b[0m \u001b[38;5;66;03m# Initialize and train the model\u001b[39;00m\n\u001b[1;32m    103\u001b[0m model \u001b[38;5;241m=\u001b[39m ScratchDecisionTreeClassifierDepth2(verbose\u001b[38;5;241m=\u001b[39m\u001b[38;5;28;01mTrue\u001b[39;00m)\n\u001b[0;32m--> 104\u001b[0m \u001b[43mmodel\u001b[49m\u001b[38;5;241;43m.\u001b[39;49m\u001b[43mfit\u001b[49m\u001b[43m(\u001b[49m\u001b[43mX_train\u001b[49m\u001b[43m,\u001b[49m\u001b[43m \u001b[49m\u001b[43my_train\u001b[49m\u001b[43m)\u001b[49m\n\u001b[1;32m    106\u001b[0m \u001b[38;5;66;03m# Predictions\u001b[39;00m\n\u001b[1;32m    107\u001b[0m X_test \u001b[38;5;241m=\u001b[39m np\u001b[38;5;241m.\u001b[39marray([[\u001b[38;5;241m2.0\u001b[39m, \u001b[38;5;241m1\u001b[39m], [\u001b[38;5;241m3.0\u001b[39m, \u001b[38;5;241m0\u001b[39m]])\n",
      "Cell \u001b[0;32mIn[45], line 47\u001b[0m, in \u001b[0;36mScratchDecisionTreeClassifierDepth2.fit\u001b[0;34m(self, X, y)\u001b[0m\n\u001b[1;32m     45\u001b[0m \u001b[38;5;28;01mif\u001b[39;00m \u001b[38;5;28mself\u001b[39m\u001b[38;5;241m.\u001b[39mverbose:\n\u001b[1;32m     46\u001b[0m     \u001b[38;5;28mprint\u001b[39m(\u001b[38;5;124m\"\u001b[39m\u001b[38;5;124mTree built successfully.\u001b[39m\u001b[38;5;124m\"\u001b[39m)\n\u001b[0;32m---> 47\u001b[0m     \u001b[38;5;28;43mself\u001b[39;49m\u001b[38;5;241;43m.\u001b[39;49m\u001b[43m_print_tree\u001b[49m\u001b[43m(\u001b[49m\u001b[38;5;28;43mself\u001b[39;49m\u001b[38;5;241;43m.\u001b[39;49m\u001b[43mtree\u001b[49m\u001b[43m)\u001b[49m\n",
      "Cell \u001b[0;32mIn[45], line 92\u001b[0m, in \u001b[0;36mScratchDecisionTreeClassifierDepth2._print_tree\u001b[0;34m(self, node, depth)\u001b[0m\n\u001b[1;32m     90\u001b[0m \u001b[38;5;28mprint\u001b[39m(\u001b[38;5;124mf\u001b[39m\u001b[38;5;124m\"\u001b[39m\u001b[38;5;132;01m{\u001b[39;00m\u001b[38;5;124m'\u001b[39m\u001b[38;5;124m  \u001b[39m\u001b[38;5;124m'\u001b[39m\u001b[38;5;250m \u001b[39m\u001b[38;5;241m*\u001b[39m\u001b[38;5;250m \u001b[39mdepth\u001b[38;5;132;01m}\u001b[39;00m\u001b[38;5;124mDecision node: feature \u001b[39m\u001b[38;5;132;01m{\u001b[39;00mfeature\u001b[38;5;132;01m}\u001b[39;00m\u001b[38;5;124m <= \u001b[39m\u001b[38;5;132;01m{\u001b[39;00mthreshold\u001b[38;5;132;01m}\u001b[39;00m\u001b[38;5;124m\"\u001b[39m)\n\u001b[1;32m     91\u001b[0m \u001b[38;5;28mprint\u001b[39m(\u001b[38;5;124mf\u001b[39m\u001b[38;5;124m\"\u001b[39m\u001b[38;5;132;01m{\u001b[39;00m\u001b[38;5;124m'\u001b[39m\u001b[38;5;124m  \u001b[39m\u001b[38;5;124m'\u001b[39m\u001b[38;5;250m \u001b[39m\u001b[38;5;241m*\u001b[39m\u001b[38;5;250m \u001b[39m(depth\u001b[38;5;250m \u001b[39m\u001b[38;5;241m+\u001b[39m\u001b[38;5;250m \u001b[39m\u001b[38;5;241m1\u001b[39m)\u001b[38;5;132;01m}\u001b[39;00m\u001b[38;5;124mLeft subtree:\u001b[39m\u001b[38;5;124m\"\u001b[39m)\n\u001b[0;32m---> 92\u001b[0m \u001b[38;5;28;43mself\u001b[39;49m\u001b[38;5;241;43m.\u001b[39;49m\u001b[43m_print_tree\u001b[49m\u001b[43m(\u001b[49m\u001b[43mleft_node\u001b[49m\u001b[43m,\u001b[49m\u001b[43m \u001b[49m\u001b[43mdepth\u001b[49m\u001b[43m \u001b[49m\u001b[38;5;241;43m+\u001b[39;49m\u001b[43m \u001b[49m\u001b[38;5;241;43m1\u001b[39;49m\u001b[43m)\u001b[49m\n\u001b[1;32m     93\u001b[0m \u001b[38;5;28mprint\u001b[39m(\u001b[38;5;124mf\u001b[39m\u001b[38;5;124m\"\u001b[39m\u001b[38;5;132;01m{\u001b[39;00m\u001b[38;5;124m'\u001b[39m\u001b[38;5;124m  \u001b[39m\u001b[38;5;124m'\u001b[39m\u001b[38;5;250m \u001b[39m\u001b[38;5;241m*\u001b[39m\u001b[38;5;250m \u001b[39m(depth\u001b[38;5;250m \u001b[39m\u001b[38;5;241m+\u001b[39m\u001b[38;5;250m \u001b[39m\u001b[38;5;241m1\u001b[39m)\u001b[38;5;132;01m}\u001b[39;00m\u001b[38;5;124mRight subtree:\u001b[39m\u001b[38;5;124m\"\u001b[39m)\n\u001b[1;32m     94\u001b[0m \u001b[38;5;28mself\u001b[39m\u001b[38;5;241m.\u001b[39m_print_tree(right_node, depth \u001b[38;5;241m+\u001b[39m \u001b[38;5;241m1\u001b[39m)\n",
      "Cell \u001b[0;32mIn[45], line 96\u001b[0m, in \u001b[0;36mScratchDecisionTreeClassifierDepth2._print_tree\u001b[0;34m(self, node, depth)\u001b[0m\n\u001b[1;32m     94\u001b[0m     \u001b[38;5;28mself\u001b[39m\u001b[38;5;241m.\u001b[39m_print_tree(right_node, depth \u001b[38;5;241m+\u001b[39m \u001b[38;5;241m1\u001b[39m)\n\u001b[1;32m     95\u001b[0m \u001b[38;5;28;01melse\u001b[39;00m:\n\u001b[0;32m---> 96\u001b[0m     \u001b[38;5;28;01mraise\u001b[39;00m \u001b[38;5;167;01mValueError\u001b[39;00m(\u001b[38;5;124mf\u001b[39m\u001b[38;5;124m\"\u001b[39m\u001b[38;5;124mUnexpected node type during tree print: \u001b[39m\u001b[38;5;132;01m{\u001b[39;00m\u001b[38;5;28mtype\u001b[39m(node)\u001b[38;5;132;01m}\u001b[39;00m\u001b[38;5;124m\"\u001b[39m)\n",
      "\u001b[0;31mValueError\u001b[0m: Unexpected node type during tree print: <class 'numpy.int64'>"
     ]
    }
   ],
   "source": [
    "import numpy as np\n",
    "\n",
    "class ScratchDecisionTreeClassifierDepth2:\n",
    "    def __init__(self, verbose=False):\n",
    "        self.verbose = verbose\n",
    "        self.tree = None\n",
    "\n",
    "    def gini_impurity(self, y):\n",
    "        \"\"\"Calculate Gini impurity for a node.\"\"\"\n",
    "        classes, counts = np.unique(y, return_counts=True)\n",
    "        impurity = 1 - sum((count / len(y)) ** 2 for count in counts)\n",
    "        return impurity\n",
    "\n",
    "    def information_gain(self, y, left_y, right_y):\n",
    "        \"\"\"Calculate information gain from splitting.\"\"\"\n",
    "        parent_impurity = self.gini_impurity(y)\n",
    "        left_impurity = self.gini_impurity(left_y) if len(left_y) > 0 else 0\n",
    "        right_impurity = self.gini_impurity(right_y) if len(right_y) > 0 else 0\n",
    "        left_weight = len(left_y) / len(y)\n",
    "        right_weight = len(right_y) / len(y)\n",
    "        return parent_impurity - (left_weight * left_impurity + right_weight * right_impurity)\n",
    "\n",
    "    def best_split(self, X, y):\n",
    "        \"\"\"Find the best feature and threshold to split.\"\"\"\n",
    "        best_gain = 0\n",
    "        best_split = None\n",
    "        n_features = X.shape[1]\n",
    "        \n",
    "        for feature in range(n_features):\n",
    "            thresholds = np.unique(X[:, feature])\n",
    "            for threshold in thresholds:\n",
    "                left_mask = X[:, feature] <= threshold\n",
    "                right_mask = X[:, feature] > threshold\n",
    "                left_y, right_y = y[left_mask], y[right_mask]\n",
    "                gain = self.information_gain(y, left_y, right_y)\n",
    "                if gain > best_gain:\n",
    "                    best_gain = gain\n",
    "                    best_split = (feature, threshold)\n",
    "        \n",
    "        return best_split\n",
    "\n",
    "    def fit(self, X, y):\n",
    "        \"\"\"Fit the decision tree classifier.\"\"\"\n",
    "        self.tree = self._build_tree(X, y, depth=2)\n",
    "        if self.verbose:\n",
    "            print(\"Tree built successfully.\")\n",
    "            self._print_tree(self.tree)\n",
    "\n",
    "    def _build_tree(self, X, y, depth):\n",
    "        \"\"\"Recursively build the decision tree.\"\"\"\n",
    "        if depth == 0 or len(np.unique(y)) == 1:\n",
    "            return np.bincount(y).argmax()  # Leaf node\n",
    "        \n",
    "        feature, threshold = self.best_split(X, y)\n",
    "        if feature is None:\n",
    "            return np.bincount(y).argmax()  # Leaf node if no valid split\n",
    "        \n",
    "        left_mask = X[:, feature] <= threshold\n",
    "        right_mask = X[:, feature] > threshold\n",
    "        left_node = self._build_tree(X[left_mask], y[left_mask], depth - 1)\n",
    "        right_node = self._build_tree(X[right_mask], y[right_mask], depth - 1)\n",
    "        \n",
    "        return (feature, threshold, left_node, right_node)\n",
    "\n",
    "    def _predict_node(self, node, x):\n",
    "        \"\"\"Predict class for a single sample using the tree.\"\"\"\n",
    "        if isinstance(node, int):  # Leaf node\n",
    "            return node\n",
    "        elif isinstance(node, tuple):  # Decision node\n",
    "            feature, threshold, left_node, right_node = node\n",
    "            if x[feature] <= threshold:\n",
    "                return self._predict_node(left_node, x)\n",
    "            else:\n",
    "                return self._predict_node(right_node, x)\n",
    "        else:\n",
    "            raise ValueError(f\"Unexpected node type: {type(node)}\")\n",
    "\n",
    "    def predict(self, X):\n",
    "        \"\"\"Predict classes for all samples.\"\"\"\n",
    "        if self.tree is None:\n",
    "            raise RuntimeError(\"The model has not been trained yet.\")\n",
    "        return np.array([self._predict_node(self.tree, x) for x in X])\n",
    "\n",
    "    def _print_tree(self, node, depth=0):\n",
    "        \"\"\"Print the tree structure for debugging.\"\"\"\n",
    "        if isinstance(node, int):\n",
    "            print(f\"{'  ' * depth}Leaf node with class {node}\")\n",
    "        elif isinstance(node, tuple):\n",
    "            feature, threshold, left_node, right_node = node\n",
    "            print(f\"{'  ' * depth}Decision node: feature {feature} <= {threshold}\")\n",
    "            print(f\"{'  ' * (depth + 1)}Left subtree:\")\n",
    "            self._print_tree(left_node, depth + 1)\n",
    "            print(f\"{'  ' * (depth + 1)}Right subtree:\")\n",
    "            self._print_tree(right_node, depth + 1)\n",
    "        else:\n",
    "            raise ValueError(f\"Unexpected node type during tree print: {type(node)}\")\n",
    "\n",
    "# Example dataset\n",
    "X_train = np.array([[2.5, 1], [3.5, 0], [1.5, 1], [4.5, 0], [2.0, 0], [5.0, 1]])\n",
    "y_train = np.array([0, 1, 0, 1, 0, 1])\n",
    "\n",
    "# Initialize and train the model\n",
    "model = ScratchDecisionTreeClassifierDepth2(verbose=True)\n",
    "model.fit(X_train, y_train)\n",
    "\n",
    "# Predictions\n",
    "X_test = np.array([[2.0, 1], [3.0, 0]])\n",
    "predictions = model.predict(X_test)\n",
    "print(\"Predictions:\", predictions)\n"
   ]
  },
  {
   "cell_type": "code",
   "execution_count": null,
   "metadata": {},
   "outputs": [],
   "source": []
  }
 ],
 "metadata": {
  "kernelspec": {
   "display_name": "dpro",
   "language": "python",
   "name": "python3"
  },
  "language_info": {
   "codemirror_mode": {
    "name": "ipython",
    "version": 3
   },
   "file_extension": ".py",
   "mimetype": "text/x-python",
   "name": "python",
   "nbconvert_exporter": "python",
   "pygments_lexer": "ipython3",
   "version": "3.10.12"
  }
 },
 "nbformat": 4,
 "nbformat_minor": 2
}
